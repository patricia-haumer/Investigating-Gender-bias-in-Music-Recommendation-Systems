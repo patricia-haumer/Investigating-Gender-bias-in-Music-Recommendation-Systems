{
 "cells": [
  {
   "cell_type": "markdown",
   "id": "e1daced0",
   "metadata": {},
   "source": [
    "##  Using Fairlearn to detect gender bias in music recommender system: Last.fm Dataset"
   ]
  },
  {
   "cell_type": "markdown",
   "id": "bb6d713f",
   "metadata": {},
   "source": [
    "### Baseline Recommender: Popularity-Based"
   ]
  },
  {
   "cell_type": "code",
   "execution_count": 1,
   "id": "c6dea4b3",
   "metadata": {},
   "outputs": [
    {
     "name": "stdout",
     "output_type": "stream",
     "text": [
      "<class 'pandas.core.frame.DataFrame'>\n",
      "RangeIndex: 39456 entries, 0 to 39455\n",
      "Data columns (total 10 columns):\n",
      " #   Column         Non-Null Count  Dtype \n",
      "---  ------         --------------  ----- \n",
      " 0   Unnamed: 0     39456 non-null  int64 \n",
      " 1   Username       39456 non-null  object\n",
      " 2   Artist         39456 non-null  object\n",
      " 3   Track          39456 non-null  object\n",
      " 4   Album          39456 non-null  object\n",
      " 5   Date           39456 non-null  object\n",
      " 6   Time           39456 non-null  object\n",
      " 7   artist_lastfm  39456 non-null  object\n",
      " 8   mbid           39456 non-null  object\n",
      " 9   gender         39456 non-null  object\n",
      "dtypes: int64(1), object(9)\n",
      "memory usage: 3.0+ MB\n"
     ]
    },
    {
     "data": {
      "text/plain": [
       "(None,\n",
       "    Unnamed: 0 Username          Artist  \\\n",
       " 0          30  Babs_05     billy ocean   \n",
       " 1          33  Babs_05   bill callahan   \n",
       " 2          35  Babs_05      rod thomas   \n",
       " 3          36  Babs_05       fela kuti   \n",
       " 4         106  Babs_05  machel montano   \n",
       " \n",
       "                                                Track  \\\n",
       " 0            Lovely Day (feat. YolanDa Brown & Ruti)   \n",
       " 1  Arise, Therefore (feat. Six Organs of Admittance)   \n",
       " 2                                        Old Friends   \n",
       " 3          I.T.T. (International Thief Thief) - Edit   \n",
       " 4                                      Private Party   \n",
       " \n",
       "                                                Album         Date    Time  \\\n",
       " 0            Lovely Day (feat. YolanDa Brown & Ruti)  31 Jan 2021   21:23   \n",
       " 1  Arise, Therefore (feat. Six Organs of Admittance)  31 Jan 2021   21:13   \n",
       " 2                                        Old Friends  31 Jan 2021   21:08   \n",
       " 3          I.T.T. (International Thief Thief) [Edit]  31 Jan 2021   21:01   \n",
       " 4                                      Private Party  30 Jan 2021   13:51   \n",
       " \n",
       "     artist_lastfm                                  mbid gender  \n",
       " 0     billy ocean  0e422e91-a42a-4b4d-8413-9baff67350f2   Male  \n",
       " 1   bill callahan  c309d914-93af-4b3f-8058-d79c75ea89da   Male  \n",
       " 2      rod thomas  deb08150-d897-4adc-abd9-971d57a11f42   Male  \n",
       " 3       fela kuti  6514cffa-fbe0-4965-ad88-e998ead8a82a   Male  \n",
       " 4  machel montano  cf5ffa07-4fb4-47a1-9d61-8721ae9af576   Male  )"
      ]
     },
     "execution_count": 1,
     "metadata": {},
     "output_type": "execute_result"
    }
   ],
   "source": [
    "#import libraries and load the data\n",
    "import pandas as pd\n",
    "\n",
    "# Load the uploaded dataset\n",
    "df_lastfm = pd.read_csv(\"lastfm_enriched_with_gender.csv\")\n",
    "\n",
    "# Show basic info and first few rows\n",
    "df_lastfm.info(), df_lastfm.head()"
   ]
  },
  {
   "cell_type": "markdown",
   "id": "96b94d21",
   "metadata": {},
   "source": [
    "### Apply our popularity-based recommender (Top-N = 100)"
   ]
  },
  {
   "cell_type": "code",
   "execution_count": 2,
   "id": "e9b0e1da",
   "metadata": {},
   "outputs": [
    {
     "data": {
      "text/html": [
       "<div>\n",
       "<style scoped>\n",
       "    .dataframe tbody tr th:only-of-type {\n",
       "        vertical-align: middle;\n",
       "    }\n",
       "\n",
       "    .dataframe tbody tr th {\n",
       "        vertical-align: top;\n",
       "    }\n",
       "\n",
       "    .dataframe thead th {\n",
       "        text-align: right;\n",
       "    }\n",
       "</style>\n",
       "<table border=\"1\" class=\"dataframe\">\n",
       "  <thead>\n",
       "    <tr style=\"text-align: right;\">\n",
       "      <th></th>\n",
       "      <th>Track</th>\n",
       "      <th>play_count</th>\n",
       "      <th>Artist</th>\n",
       "      <th>gender</th>\n",
       "    </tr>\n",
       "  </thead>\n",
       "  <tbody>\n",
       "    <tr>\n",
       "      <th>0</th>\n",
       "      <td>Undivided</td>\n",
       "      <td>82</td>\n",
       "      <td>tim mcgraw</td>\n",
       "      <td>Male</td>\n",
       "    </tr>\n",
       "    <tr>\n",
       "      <th>1</th>\n",
       "      <td>Dirtknock</td>\n",
       "      <td>70</td>\n",
       "      <td>madlib</td>\n",
       "      <td>Male</td>\n",
       "    </tr>\n",
       "    <tr>\n",
       "      <th>2</th>\n",
       "      <td>Road of the Lonely Ones</td>\n",
       "      <td>67</td>\n",
       "      <td>madlib</td>\n",
       "      <td>Male</td>\n",
       "    </tr>\n",
       "    <tr>\n",
       "      <th>3</th>\n",
       "      <td>Hopprock</td>\n",
       "      <td>60</td>\n",
       "      <td>madlib</td>\n",
       "      <td>Male</td>\n",
       "    </tr>\n",
       "    <tr>\n",
       "      <th>4</th>\n",
       "      <td>Everyday &amp; Everynight - Straight Pass</td>\n",
       "      <td>50</td>\n",
       "      <td>yvette michele</td>\n",
       "      <td>Female</td>\n",
       "    </tr>\n",
       "    <tr>\n",
       "      <th>5</th>\n",
       "      <td>Loose Goose</td>\n",
       "      <td>48</td>\n",
       "      <td>madlib</td>\n",
       "      <td>Male</td>\n",
       "    </tr>\n",
       "    <tr>\n",
       "      <th>6</th>\n",
       "      <td>Baila Conmigo (with Rauw Alejandro)</td>\n",
       "      <td>43</td>\n",
       "      <td>selena gomez</td>\n",
       "      <td>Female</td>\n",
       "    </tr>\n",
       "    <tr>\n",
       "      <th>7</th>\n",
       "      <td>Chino</td>\n",
       "      <td>43</td>\n",
       "      <td>madlib</td>\n",
       "      <td>Male</td>\n",
       "    </tr>\n",
       "    <tr>\n",
       "      <th>8</th>\n",
       "      <td>Riddim Chant</td>\n",
       "      <td>43</td>\n",
       "      <td>madlib</td>\n",
       "      <td>Male</td>\n",
       "    </tr>\n",
       "    <tr>\n",
       "      <th>9</th>\n",
       "      <td>The Call</td>\n",
       "      <td>42</td>\n",
       "      <td>madlib</td>\n",
       "      <td>Male</td>\n",
       "    </tr>\n",
       "  </tbody>\n",
       "</table>\n",
       "</div>"
      ],
      "text/plain": [
       "                                   Track  play_count          Artist  gender\n",
       "0                              Undivided          82      tim mcgraw    Male\n",
       "1                              Dirtknock          70          madlib    Male\n",
       "2                Road of the Lonely Ones          67          madlib    Male\n",
       "3                               Hopprock          60          madlib    Male\n",
       "4  Everyday & Everynight - Straight Pass          50  yvette michele  Female\n",
       "5                            Loose Goose          48          madlib    Male\n",
       "6    Baila Conmigo (with Rauw Alejandro)          43    selena gomez  Female\n",
       "7                                  Chino          43          madlib    Male\n",
       "8                           Riddim Chant          43          madlib    Male\n",
       "9                               The Call          42          madlib    Male"
      ]
     },
     "execution_count": 2,
     "metadata": {},
     "output_type": "execute_result"
    }
   ],
   "source": [
    "# Count how many times each track was played\n",
    "track_popularity = df_lastfm['Track'].value_counts().reset_index()\n",
    "track_popularity.columns = ['Track', 'play_count']\n",
    "\n",
    "# Merge with original data to get gender and artist info\n",
    "# We'll use the first occurrence of each track to get corresponding metadata\n",
    "track_metadata = df_lastfm.drop_duplicates(subset='Track')[['Track', 'Artist', 'gender']]\n",
    "popular_tracks = track_popularity.merge(track_metadata, on='Track', how='left')\n",
    "\n",
    "# Get Top-N popular tracks\n",
    "N = 100\n",
    "top_n_recommendations = popular_tracks.head(N)\n",
    "\n",
    "# Show the top 100 for preview\n",
    "top_n_recommendations.head(10)"
   ]
  },
  {
   "cell_type": "markdown",
   "id": "2bdd696d",
   "metadata": {},
   "source": [
    "### Inspect the Top 100 Recommendations"
   ]
  },
  {
   "cell_type": "code",
   "execution_count": 4,
   "id": "c4e7bbf7",
   "metadata": {},
   "outputs": [
    {
     "name": "stdout",
     "output_type": "stream",
     "text": [
      "\n",
      "Percentage of Recommendations by Gender:\n",
      " gender\n",
      "Male      59.0\n",
      "Female    38.0\n",
      "Other      3.0\n",
      "Name: proportion, dtype: float64\n"
     ]
    }
   ],
   "source": [
    "gender_percentage = top_n_recommendations['gender'].value_counts(normalize=True) * 100\n",
    "print(\"\\nPercentage of Recommendations by Gender:\\n\", gender_percentage)"
   ]
  },
  {
   "cell_type": "code",
   "execution_count": 6,
   "id": "3bb2596f",
   "metadata": {},
   "outputs": [
    {
     "data": {
      "image/png": "[encoded data removed]",
      "text/plain": [
       "<Figure size 640x480 with 1 Axes>"
      ]
     },
     "metadata": {},
     "output_type": "display_data"
    }
   ],
   "source": [
    "import matplotlib.pyplot as plt\n",
    "\n",
    "gender_percentage.plot(kind='bar', color='lightgreen')\n",
    "plt.title('Percentage Distribution in Top-100 Recommended Tracks')\n",
    "plt.ylabel('Percentage')\n",
    "plt.xlabel('Artist Gender')\n",
    "plt.xticks(rotation=0)\n",
    "plt.grid(axis='y')\n",
    "plt.tight_layout()\n",
    "plt.show()"
   ]
  },
  {
   "cell_type": "markdown",
   "id": "b49e4f4b",
   "metadata": {},
   "source": [
    "## Evaluation of Top-100 Recommended Tracks: Lastfm Dataset\n",
    "\n",
    "We analyzed the Top-100 tracks recommended by a popularity-based recommender trained on the Last.fm enriched dataset. Below is a breakdown of artist gender representation and notable patterns:\n",
    "\n",
    "### Gender Distribution of Artists\n",
    "\n",
    "The Top-100 recommended tracks consist of the following distribution by artist gender:\n",
    "\n",
    "- **Male**: 59 tracks (59%)\n",
    "- **Female**: 38 tracks (38%)\n",
    "- **Other**: 3 tracks (3%)\n",
    "\n",
    "This indicates a somewhat skewed distribution, with male artists receiving the majority of recommendations. Female artists represent a significant portion but still trail behind, while the \"Other\" category is totally underrepresented.\n",
    "\n",
    "### Key insights: \n",
    "- Female and Other gender groups are noticeably less represented, which could lead to biased exposure and reduced diversity in recommendations.\n",
    "- This analysis establishes a fairness baseline and underscores the need for bias detection and potential mitigation.\n",
    "\n",
    "---"
   ]
  },
  {
   "cell_type": "markdown",
   "id": "54acb6ed",
   "metadata": {},
   "source": [
    "### Bias detection using Fairlarn"
   ]
  },
  {
   "cell_type": "code",
   "execution_count": null,
   "id": "4c59d22f",
   "metadata": {},
   "outputs": [],
   "source": [
    "#and install again in the following order \n",
    "#!pip install numpy==1.26.4\n",
    "#!pip install scipy\n",
    "#!pip install scikit-learn\n",
    "#!pip install fairlearn"
   ]
  },
  {
   "cell_type": "code",
   "execution_count": 7,
   "id": "b8608dd4",
   "metadata": {},
   "outputs": [],
   "source": [
    "# Step 0: Create a unique identifier if necessary\n",
    "df_lastfm['track_key'] = df_lastfm['Artist'] + \" - \" + df_lastfm['Track']\n",
    "\n",
    "# Step 1: Compute popularity using unique track_key\n",
    "track_popularity = df_lastfm['track_key'].value_counts().reset_index()\n",
    "track_popularity.columns = ['track_key', 'play_count']\n",
    "\n",
    "# Step 2: Define Top-N recommended track IDs\n",
    "N = 100\n",
    "top_n_track_keys = track_popularity.head(N)['track_key'].tolist()\n",
    "\n",
    "# Step 3: Build full metadata (deduplicated tracks with gender info)\n",
    "track_metadata = df_lastfm.drop_duplicates(subset='track_key')[['track_key', 'Artist', 'Track', 'gender']]\n",
    "\n",
    "# Step 4: Merge metadata with popularity (full set of tracks)\n",
    "full_tracks = track_metadata.merge(track_popularity, on='track_key', how='left')\n",
    "\n",
    "# Step 5: Fill missing play counts with 0\n",
    "full_tracks['play_count'] = full_tracks['play_count'].fillna(0)\n",
    "\n",
    "# Step 6: Label top-N tracks\n",
    "full_tracks['label'] = full_tracks['track_key'].isin(top_n_track_keys).astype(int)\n",
    "\n",
    "# Step 7: Create binary sensitive attribute\n",
    "full_tracks['is_male'] = (full_tracks['gender'].str.lower() == 'male').astype(int)"
   ]
  },
  {
   "cell_type": "code",
   "execution_count": 8,
   "id": "8e7f8c5c",
   "metadata": {},
   "outputs": [
    {
     "name": "stdout",
     "output_type": "stream",
     "text": [
      "Absolute Gender Distribution in Full Catalog:\n",
      "gender\n",
      "Male      12831\n",
      "Female     4692\n",
      "Other        55\n",
      "Name: count, dtype: int64\n",
      "\n",
      "Percentage Distribution:\n",
      "gender\n",
      "Male      72.99\n",
      "Female    26.69\n",
      "Other      0.31\n",
      "Name: proportion, dtype: float64\n"
     ]
    }
   ],
   "source": [
    "# Absolute counts of gender in the full catalog\n",
    "print(\"Absolute Gender Distribution in Full Catalog:\")\n",
    "print(full_tracks['gender'].value_counts(dropna=False))\n",
    "\n",
    "# Percentage distribution\n",
    "print(\"\\nPercentage Distribution:\")\n",
    "print(full_tracks['gender'].value_counts(normalize=True, dropna=False).mul(100).round(2))"
   ]
  },
  {
   "cell_type": "markdown",
   "id": "f986d4d5",
   "metadata": {},
   "source": [
    "If the recommender was perfectly unbiased and proportional, we’d expect about: 73 male tracks, 27 female tracks, and 0 or 1 from artists categorized as “Other.”"
   ]
  },
  {
   "cell_type": "markdown",
   "id": "7af12208",
   "metadata": {},
   "source": [
    "### Metrics computation using Fairlearn"
   ]
  },
  {
   "cell_type": "code",
   "execution_count": 10,
   "id": "8202c367",
   "metadata": {},
   "outputs": [
    {
     "name": "stdout",
     "output_type": "stream",
     "text": [
      "Selection rate by gender group:\n",
      "gender\n",
      "Female    0.008099\n",
      "Male      0.004598\n",
      "Other     0.054545\n",
      "Name: selection_rate, dtype: float64\n"
     ]
    }
   ],
   "source": [
    "# Evaluate fairness using Fairlearn\n",
    "from fairlearn.metrics import MetricFrame, selection_rate\n",
    "\n",
    "# Use the full labeled dataset\n",
    "y_true = full_tracks['label']\n",
    "sensitive_attr = full_tracks['gender']  # or 'gender_grouped' if you renamed it earlier\n",
    "\n",
    "# MetricFrame for selection rate\n",
    "mf = MetricFrame(\n",
    "    metrics=selection_rate,\n",
    "    y_true=y_true,\n",
    "    y_pred=y_true,  # Using labels as predictions in popularity-based recommender\n",
    "    sensitive_features=sensitive_attr\n",
    ")\n",
    "\n",
    "# Print selection rate per gender group\n",
    "print(\"Selection rate by gender group:\")\n",
    "print(mf.by_group)"
   ]
  },
  {
   "cell_type": "markdown",
   "id": "74fa1b52",
   "metadata": {},
   "source": [
    "### Visualize selection rates by gender groups"
   ]
  },
  {
   "cell_type": "code",
   "execution_count": 11,
   "id": "9976ec88",
   "metadata": {},
   "outputs": [
    {
     "data": {
      "image/png": "[encoded data removed]",
      "text/plain": [
       "<Figure size 800x500 with 1 Axes>"
      ]
     },
     "metadata": {},
     "output_type": "display_data"
    }
   ],
   "source": [
    "import matplotlib.pyplot as plt\n",
    "\n",
    "# Extract selection rates from MetricFrame\n",
    "selection_rates = mf.by_group  # This is a pandas Series\n",
    "\n",
    "# Create the plot\n",
    "plt.figure(figsize=(8, 5))\n",
    "bars = plt.bar(selection_rates.index, selection_rates.values, color='skyblue')\n",
    "\n",
    "# Add title and axis labels\n",
    "plt.title('Selection Rate by Gender Group (Multiclass)', fontsize=14)\n",
    "plt.ylabel('Selection Rate')\n",
    "plt.ylim(0, selection_rates.max() * 1.2)\n",
    "plt.grid(axis='y', linestyle='--', alpha=0.6)\n",
    "\n",
    "# Add exact values as text above each bar\n",
    "for bar in bars:\n",
    "    height = bar.get_height()\n",
    "    plt.text(bar.get_x() + bar.get_width() / 2, height + 0.0001,\n",
    "             f'{height:.6f}', ha='center', va='bottom', fontsize=9)\n",
    "\n",
    "plt.tight_layout()\n",
    "plt.show()"
   ]
  },
  {
   "cell_type": "markdown",
   "id": "5854cc4a",
   "metadata": {},
   "source": [
    "## Selection Rate by Gender Group\n",
    "\n",
    "| Gender Group | Selection Rate      | Interpretation                                                                 |\n",
    "|--------------|---------------------|---------------------------------------------------------------------------------|\n",
    "| **Female**   | 0.008099 (0.81%)    | 🟢 Highest selection rate — relatively well represented                          |\n",
    "| **Male**     | 0.004598 (0.46%)    | 🟡 Lower selection rate — underrepresented relative to catalog share (73%)       |\n",
    "| **Other**    | 0.054545 (5.45%)    | 🔴 Extremely high — significant overrepresentation given catalog share (~0.3%)   |\n",
    "\n",
    "---\n",
    "\n",
    "### What This Means\n",
    "\n",
    "- **Selection rate bias is present**, but **unlike Spotify**, the pattern is reversed:\n",
    "  - **Female artists** are being recommended more often (per artist) than male artists.\n",
    "  - **Male artists**, despite making up ~73% of the catalog, are being recommended at a lower rate.\n",
    "  - **Other** artists (just 0.3% of catalog) have an unusually high selection rate — likely due to **a very small denominator** (55 artists), where just **3 selected tracks** would already give a 5.45% rate.\n",
    "\n",
    "---\n",
    "\n",
    "### Interpretation Considerations\n",
    "\n",
    "- This result could be due to:\n",
    "  - A **few very popular “Other” artists** disproportionately influencing the results.\n",
    "  - A **Top-N list** that happened to include strong representation of female artists.\n",
    "- Still, given the massive underrepresentation in the catalog, the fairness profile may seem **counterintuitive**, but it shows that **popularity is not always biased toward the majority**."
   ]
  },
  {
   "cell_type": "markdown",
   "id": "66ee07fd",
   "metadata": {},
   "source": [
    "### Inspection of Pairwise Demographic Parity Differences (DPD) \n",
    "These are useful for identifying specific fairness disparities between individual gender groups, rather than just looking at the overall range. This helps reveal whether certain groups are consistently under- or over-recommended relative to others. It also allows for a more nuanced understanding of fairness in multiclass settings, where biases may affect each group differently. By comparing each group pair directly, we can target mitigation efforts more precisely."
   ]
  },
  {
   "cell_type": "code",
   "execution_count": null,
   "id": "151152b9",
   "metadata": {},
   "outputs": [
    {
     "name": "stdout",
     "output_type": "stream",
     "text": [
      "📊 Pairwise Demographic Parity Differences:\n",
      "\n",
      "  Group A Group B  DP Difference (A vs B)\n",
      "0    male  female                0.003501\n",
      "1    male   other                0.049947\n",
      "2  female   other                0.046447\n"
     ]
    }
   ],
   "source": [
    "import pandas as pd\n",
    "from fairlearn.metrics import demographic_parity_difference\n",
    "\n",
    "# Ensure gender is lowercase and consistent\n",
    "full_tracks['gender_grouped'] = full_tracks['gender'].str.strip().str.lower()\n",
    "\n",
    "# Get the unique gender groups\n",
    "gender_groups = full_tracks['gender_grouped'].unique()\n",
    "\n",
    "# Collect pairwise DPDs\n",
    "dpd_results = []\n",
    "\n",
    "for i, group_a in enumerate(gender_groups):\n",
    "    for j, group_b in enumerate(gender_groups):\n",
    "        if i < j:\n",
    "            # Create binary sensitive attribute: 1 if group_a, 0 if group_b, None otherwise\n",
    "            binary_sensitive = full_tracks['gender_grouped'].apply(\n",
    "                lambda x: 1 if x == group_a else (0 if x == group_b else None)\n",
    "            )\n",
    "\n",
    "            # Mask to filter out rows not in A or B\n",
    "            mask = binary_sensitive.notnull()\n",
    "\n",
    "            # Compute demographic parity difference for this pair\n",
    "            dpd = demographic_parity_difference(\n",
    "                y_true=full_tracks.loc[mask, 'label'],\n",
    "                y_pred=full_tracks.loc[mask, 'label'],\n",
    "                sensitive_features=binary_sensitive[mask]\n",
    "            )\n",
    "\n",
    "            dpd_results.append({\n",
    "                'Group A': group_a,\n",
    "                'Group B': group_b,\n",
    "                'DP Difference (A vs B)': round(dpd, 6)\n",
    "            })\n",
    "\n",
    "# Convert results to a DataFrame for display\n",
    "dpd_df = pd.DataFrame(dpd_results)\n",
    "print( Pairwise Demographic Parity Differences:\\n\")\n",
    "print(dpd_df)\n"
   ]
  },
  {
   "cell_type": "markdown",
   "id": "4613c648",
   "metadata": {},
   "source": [
    "## Pairwise Demographic Parity Differences\n",
    "\n",
    "| Group A | Group B | DP Difference (A vs B) | Interpretation |\n",
    "|---------|---------|------------------------|----------------|\n",
    "| **Male**   | Female   | 0.0035 (0.35%)           | 🟢 Very small difference — nearly equal selection rates between male and female artists |\n",
    "| **Male**   | Other    | 0.0499 (4.99%)           | 🔴 Notable disparity — artists labeled \"Other\" are selected more frequently than male artists |\n",
    "| **Female** | Other    | 0.0464 (4.64%)           | 🔴 Similar disparity — \"Other\" artists are selected more frequently than female artists |\n",
    "\n",
    "---\n",
    "\n",
    "### Interpretation:\n",
    "\n",
    "- The **selection rates for male and female artists** are very close (DPD ≈ 0.35%), suggesting little disparity between them in the recommender output.\n",
    "- However, there is a **noticeable selection bias in favor of the \"Other\" gender group**, with both male and female artists being under-selected in comparison.\n",
    "- This aligns with earlier findings where the \"Other\" group had a much higher selection rate despite making up only 0.3% of the catalog.\n",
    "\n",
    "### Consideration\n",
    "\n",
    "- Because the \"Other\" group is very small (just 55 artists), even a few popular tracks can **inflate their selection rate and DPD values**.\n",
    "- This makes the fairness result sensitive to **outliers** or **high-impact individual artists** in that group.\n",
    "---\n"
   ]
  },
  {
   "cell_type": "code",
   "execution_count": 12,
   "id": "022a07e1",
   "metadata": {},
   "outputs": [
    {
     "name": "stdout",
     "output_type": "stream",
     "text": [
      "Demographic Parity Difference: 0.049947\n",
      "Demographic Parity Ratio: 0.084301\n"
     ]
    }
   ],
   "source": [
    "from fairlearn.metrics import demographic_parity_difference, demographic_parity_ratio\n",
    "\n",
    "# Use the same y_true and sensitive attribute as before\n",
    "dp_diff = demographic_parity_difference(y_true, y_true, sensitive_features=sensitive_attr)\n",
    "dp_ratio = demographic_parity_ratio(y_true, y_true, sensitive_features=sensitive_attr)\n",
    "\n",
    "print(f\"Demographic Parity Difference: {dp_diff:.6f}\")\n",
    "print(f\"Demographic Parity Ratio: {dp_ratio:.6f}\")"
   ]
  },
  {
   "cell_type": "markdown",
   "id": "6cd5e478",
   "metadata": {},
   "source": [
    "| Metric            | Value      | Interpretation                                                                                                                                               |\n",
    "| ----------------- | ---------- | ------------------------------------------------------------------------------------------------------------------------------------------------------------ |\n",
    "| **DP Difference** | `0.049947` | 🟡 There is **moderate disparity** — the most selected group has a 5% higher selection rate than the least selected group. Not extreme, but noticeable.      |\n",
    "| **DP Ratio**      | `0.084301` | 🔴 This is **very low** — the least selected group receives only 8.4% as many recommendations as the most selected group. This signals **severe imbalance**. |\n",
    "\n",
    "The recommender system shows moderate disparity in how different gender groups are represented in the Top-100 recommendations. In particular, artists labeled as \"Other\" receive recommendations at a much higher rate than both male and female artists — resulting in a Demographic Parity Ratio of only 8.4%, which indicates a serious imbalance. However, this effect is likely magnified by the very small size of the \"Other\" group, so this result should be interpreted carefully."
   ]
  },
  {
   "cell_type": "markdown",
   "id": "95c91592",
   "metadata": {},
   "source": [
    "## Bias Mitigation"
   ]
  },
  {
   "cell_type": "markdown",
   "id": "896a28e1",
   "metadata": {},
   "source": [
    "### In-Processing: Fairness-Aware Learning using Fairlearn’s ExponentiatedGradient"
   ]
  },
  {
   "cell_type": "code",
   "execution_count": 15,
   "id": "e349b088",
   "metadata": {},
   "outputs": [
    {
     "name": "stdout",
     "output_type": "stream",
     "text": [
      "Selection Rate by Gender Group (Fair Model):\n",
      "gender_grouped\n",
      "female    0.004972\n",
      "male      0.004935\n",
      "other     0.062500\n",
      "Name: selection_rate, dtype: float64\n",
      "\n",
      "📏 Selection Rate Range (Max - Min): 0.0576\n"
     ]
    }
   ],
   "source": [
    "from fairlearn.reductions import ExponentiatedGradient, DemographicParity\n",
    "from fairlearn.metrics import MetricFrame, selection_rate\n",
    "from sklearn.linear_model import LogisticRegression\n",
    "from sklearn.model_selection import train_test_split\n",
    "\n",
    "# STEP 1: Prepare features, labels, and sensitive attribute\n",
    "X = full_tracks[['play_count']]\n",
    "y = full_tracks['label']\n",
    "sensitive = full_tracks['gender'].str.strip().str.lower()  # ensure consistent formatting\n",
    "\n",
    "# Combine into one DataFrame for stratified sampling\n",
    "df_all = X.copy()\n",
    "df_all['label'] = y\n",
    "df_all['gender_grouped'] = sensitive\n",
    "\n",
    "# STEP 2: Stratified train-test split to preserve gender group proportions\n",
    "train_df, test_df = train_test_split(\n",
    "    df_all,\n",
    "    test_size=0.3,\n",
    "    stratify=df_all['gender_grouped'],\n",
    "    random_state=42\n",
    ")\n",
    "\n",
    "# STEP 3: Separate training and test components\n",
    "X_train = train_df[['play_count']]\n",
    "y_train = train_df['label']\n",
    "s_train = train_df['gender_grouped']\n",
    "\n",
    "X_test = test_df[['play_count']]\n",
    "y_test = test_df['label']\n",
    "s_test = test_df['gender_grouped']\n",
    "\n",
    "# STEP 4: Train a fairness-aware model using Exponentiated Gradient\n",
    "base_model = LogisticRegression(solver='liblinear')\n",
    "mitigator = ExponentiatedGradient(\n",
    "    estimator=base_model,\n",
    "    constraints=DemographicParity()\n",
    ")\n",
    "mitigator.fit(X_train, y_train, sensitive_features=s_train)\n",
    "\n",
    "# STEP 5: Predict using the fair model\n",
    "y_pred_fair = mitigator.predict(X_test)\n",
    "\n",
    "# STEP 6: Evaluate fairness (selection rate per gender group)\n",
    "mf_multi = MetricFrame(\n",
    "    metrics=selection_rate,\n",
    "    y_true=y_test,\n",
    "    y_pred=y_pred_fair,\n",
    "    sensitive_features=s_test\n",
    ")\n",
    "\n",
    "# Output results\n",
    "print(\"Selection Rate by Gender Group (Fair Model):\")\n",
    "print(mf_multi.by_group)\n",
    "\n",
    "range_diff = mf_multi.by_group.max() - mf_multi.by_group.min()\n",
    "print(f\"\\n📏 Selection Rate Range (Max - Min): {range_diff:.4f}\")\n"
   ]
  },
  {
   "cell_type": "markdown",
   "id": "3ee1b386",
   "metadata": {},
   "source": [
    "## Selection Rate Comparison: Baseline vs. Fair Model (Last.fm)\n",
    "\n",
    "| Gender Group | Baseline Selection Rate | Fair Model Selection Rate | Change         | Interpretation                                                |\n",
    "|--------------|-------------------------|----------------------------|----------------|----------------------------------------------------------------|\n",
    "| **Female**   | 0.008099 (0.81%)        | 0.004972 (0.50%)           | 🔻 Decreased    | More aligned with male group; now nearly equal                |\n",
    "| **Male**     | 0.004598 (0.46%)        | 0.004935 (0.49%)           | 🔼 Slightly up  | Balanced with female group                                    |\n",
    "| **Other**    | 0.054545 (5.45%)        | 0.062500 (6.25%)           | 🔼 Increased    | Still heavily overrepresented despite small catalog presence  |\n",
    "\n",
    "---\n",
    "\n",
    "### Summary of Effects\n",
    "\n",
    "-  **Male and female** selection rates are now very close (0.49%–0.50%), suggesting that the fairness-aware model has **eliminated gender imbalance** between these two groups.\n",
    "- The **\"Other\" group** (which represents only ~0.3% of the catalog) remains **significantly overrepresented**. The selection rate actually increased from 5.45% to 6.25%.\n",
    "- **Selection Rate Range (Max - Min): 0.0576** — still high due to the outlier status of the \"Other\" group.\n",
    "\n",
    "---\n",
    "\n",
    "### Interpretation:\n",
    "\n",
    "- The **Exponentiated Gradient with Demographic Parity** constraint was **successful in equalizing outcomes** between male and female artists, which was the main fairness concern in your Spotify experiment.\n",
    "- However, it **did not mitigate the disproportionate selection of \"Other\" artists** — in fact, it slightly increased their representation.\n",
    "- This reflects a limitation of Demographic Parity when applied to **very small groups**: even a few high-ranking items can dramatically skew fairness metrics.\n",
    "- Therefore, **fairness mitigation should be interpreted alongside group size and outcome impact** — especially when evaluating small minorities like the \"Other\" gender group in your dataset.\n",
    "\n",
    "---"
   ]
  },
  {
   "cell_type": "code",
   "execution_count": 16,
   "id": "44ae67d6",
   "metadata": {},
   "outputs": [
    {
     "name": "stderr",
     "output_type": "stream",
     "text": [
      "C:\\Users\\patri\\AppData\\Local\\Temp\\ipykernel_7732\\4003757063.py:34: FutureWarning: Series.__getitem__ treating keys as positions is deprecated. In a future version, integer keys will always be treated as labels (consistent with DataFrame behavior). To access a value by position, use `ser.iloc[pos]`\n",
      "  plt.text(x[i] - width/2, baseline_rates[i] + 0.0001, f'{baseline_rates[i]:.6f}', ha='center', fontsize=8)\n",
      "C:\\Users\\patri\\AppData\\Local\\Temp\\ipykernel_7732\\4003757063.py:35: FutureWarning: Series.__getitem__ treating keys as positions is deprecated. In a future version, integer keys will always be treated as labels (consistent with DataFrame behavior). To access a value by position, use `ser.iloc[pos]`\n",
      "  plt.text(x[i] + width/2, fair_rates[i] + 0.0001, f'{fair_rates[i]:.6f}', ha='center', fontsize=8)\n",
      "C:\\Users\\patri\\AppData\\Local\\Temp\\ipykernel_7732\\4003757063.py:37: UserWarning: Glyph 127911 (\\N{HEADPHONE}) missing from font(s) DejaVu Sans.\n",
      "  plt.tight_layout()\n",
      "C:\\Users\\patri\\AppData\\Local\\Packages\\PythonSoftwareFoundation.Python.3.11_qbz5n2kfra8p0\\LocalCache\\local-packages\\Python311\\site-packages\\IPython\\core\\pylabtools.py:170: UserWarning: Glyph 127911 (\\N{HEADPHONE}) missing from font(s) DejaVu Sans.\n",
      "  fig.canvas.print_figure(bytes_io, **kw)\n"
     ]
    },
    {
     "data": {
      "image/png": "[encoded data removed]",
      "text/plain": [
       "<Figure size 1000x600 with 1 Axes>"
      ]
     },
     "metadata": {},
     "output_type": "display_data"
    }
   ],
   "source": [
    "import matplotlib.pyplot as plt\n",
    "import numpy as np\n",
    "from fairlearn.metrics import MetricFrame, selection_rate\n",
    "\n",
    "# Step 1: Create MetricFrame for baseline model on the test set\n",
    "mf_baseline_test = MetricFrame(\n",
    "    metrics=selection_rate,\n",
    "    y_true=test_df['label'],\n",
    "    y_pred=test_df['label'],  # Baseline uses Top-N labels as predictions\n",
    "    sensitive_features=test_df['gender_grouped']\n",
    ")\n",
    "\n",
    "# Step 2: Get selection rates from both models\n",
    "baseline_rates = mf_baseline_test.by_group\n",
    "fair_rates = mf_multi.by_group  # Already computed from the fair model\n",
    "\n",
    "# Step 3: Plot side-by-side\n",
    "groups = baseline_rates.index\n",
    "x = np.arange(len(groups))\n",
    "width = 0.35\n",
    "\n",
    "plt.figure(figsize=(10, 6))\n",
    "plt.bar(x - width/2, baseline_rates[groups], width, label='Baseline (Test Set)', color='lightcoral')\n",
    "plt.bar(x + width/2, fair_rates[groups], width, label='Fair Model', color='mediumseagreen')\n",
    "\n",
    "plt.ylabel('Selection Rate')\n",
    "plt.title('🎧 Selection Rate by Gender Group (Baseline vs Fair Model on Test Set)')\n",
    "plt.xticks(ticks=x, labels=groups)\n",
    "plt.legend()\n",
    "plt.grid(axis='y', linestyle='--', alpha=0.6)\n",
    "\n",
    "# Add exact values above each bar\n",
    "for i in range(len(groups)):\n",
    "    plt.text(x[i] - width/2, baseline_rates[i] + 0.0001, f'{baseline_rates[i]:.6f}', ha='center', fontsize=8)\n",
    "    plt.text(x[i] + width/2, fair_rates[i] + 0.0001, f'{fair_rates[i]:.6f}', ha='center', fontsize=8)\n",
    "\n",
    "plt.tight_layout()\n",
    "plt.show()\n"
   ]
  },
  {
   "cell_type": "markdown",
   "id": "6ed1452c",
   "metadata": {},
   "source": [
    "## Interpretation of Selection Rate Comparison Chart:\n",
    "\n",
    "The chart shows a side-by-side comparison of selection rates per gender group for the **Baseline** and **Fair Model** (on the test set):\n",
    "\n",
    "-  **Male and female** selection rates are now closely aligned in the fair model (~0.005), reducing disparity between them.\n",
    "-  **Female artists** saw a reduction in selection rate, while **male artists** remained nearly the same — balancing both.\n",
    "- The **\"Other\" group**, which was highly overrepresented in the baseline (~0.125), has a **lower but still elevated** selection rate (~0.063) after mitigation.\n",
    "\n",
    "This confirms that the fairness-aware model improved parity between male and female groups but had limited effect on the small and dominant “Other” group.\n"
   ]
  },
  {
   "cell_type": "markdown",
   "id": "29c8032f",
   "metadata": {},
   "source": [
    "**! Note:**\n",
    "For this dataset we decided to skip ThresholdOptimizer as it only supports **binary sensitive attributes**, which makes it unsuitable for our **multiclass gender setup** (`male`, `female`, `other`).  We've instead used **ExponentiatedGradient**, which supports multiclass fairness and that yielded better results."
   ]
  },
  {
   "cell_type": "markdown",
   "id": "b6b43b5d",
   "metadata": {},
   "source": [
    "## Bias Mitigation using Reweighting (Inprocessing)"
   ]
  },
  {
   "cell_type": "code",
   "execution_count": 20,
   "id": "eefe46f4",
   "metadata": {},
   "outputs": [
    {
     "name": "stdout",
     "output_type": "stream",
     "text": [
      "Selection Rate by Gender Group (GridSearch with Reweighting):\n",
      "gender_grouped\n",
      "female    0.001420\n",
      "male      0.002597\n",
      "other     0.000000\n",
      "Name: selection_rate, dtype: float64\n",
      "\n",
      "📏 Selection Rate Range (Max - Min): 0.0026\n"
     ]
    }
   ],
   "source": [
    "from fairlearn.reductions import GridSearch, DemographicParity\n",
    "from sklearn.linear_model import LogisticRegression\n",
    "from fairlearn.metrics import MetricFrame, selection_rate\n",
    "\n",
    "# Step 1: Recreate sensitive attribute (ensure it's clean and lowercase)\n",
    "s_train_grouped = s_train.str.strip().str.lower()\n",
    "s_test_grouped = s_test.str.strip().str.lower()\n",
    "\n",
    "# Step 2: Define base estimator and fairness constraint\n",
    "base_estimator = LogisticRegression(solver='liblinear')\n",
    "\n",
    "# Step 3: Initialize GridSearch with Demographic Parity\n",
    "grid_search = GridSearch(\n",
    "    estimator=base_estimator,\n",
    "    constraints=DemographicParity(),\n",
    "    grid_size=20\n",
    ")\n",
    "\n",
    "# Step 4: Fit the fairness-aware model using training data\n",
    "grid_search.fit(X_train, y_train, sensitive_features=s_train_grouped)\n",
    "\n",
    "# Step 5: Choose the best predictor from the resulting models\n",
    "best_predictor = grid_search.predictors_[0]\n",
    "\n",
    "# Step 6: Predict on test set\n",
    "y_pred_grid = best_predictor.predict(X_test)\n",
    "\n",
    "# Step 7: Evaluate fairness\n",
    "mf_grid = MetricFrame(\n",
    "    metrics=selection_rate,\n",
    "    y_true=y_test,\n",
    "    y_pred=y_pred_grid,\n",
    "    sensitive_features=s_test_grouped\n",
    ")\n",
    "\n",
    "# Output results\n",
    "print(\"Selection Rate by Gender Group (GridSearch with Reweighting):\")\n",
    "print(mf_grid.by_group)\n",
    "\n",
    "range_grid = mf_grid.by_group.max() - mf_grid.by_group.min()\n",
    "print(f\"\\n📏 Selection Rate Range (Max - Min): {range_grid:.4f}\")\n"
   ]
  },
  {
   "cell_type": "markdown",
   "id": "b473af6c",
   "metadata": {},
   "source": [
    "## Interpretation: GridSearch with Reweighting (Fairlearn)\n",
    "\n",
    "| Gender Group | Selection Rate | Interpretation                                                  |\n",
    "|--------------|----------------|------------------------------------------------------------------|\n",
    "| **Female**   | 0.001420 (0.14%) | 🔻 Slightly underrepresented; selection rate remains low        |\n",
    "| **Male**     | 0.002597 (0.26%) | 🟢 Highest selection rate among the three groups                |\n",
    "| **Other**    | 0.000000 (0.00%) | ❌ No tracks selected — group completely excluded               |\n",
    "\n",
    "---\n",
    "\n",
    "##### Selection Rate Range: 0.0026\n",
    "\n",
    "- The fairness-aware model trained with **GridSearch and Demographic Parity** achieved a **low selection rate disparity** numerically.\n",
    "- However, this came at the cost of **excluding the \"Other\" group entirely**, which highlights a **fairness trade-off**.\n",
    "- This outcome suggests that the optimizer prioritized balancing between **male and female groups**, possibly due to the **tiny size** of the \"Other\" group in the training data.\n",
    "\n",
    "**Conclusion**: GridSearch reduced disparity across male/female, but fairness for the \"Other\" group remains unaddressed.\n"
   ]
  },
  {
   "cell_type": "markdown",
   "id": "55c47ea1",
   "metadata": {},
   "source": [
    "## Comprehensive Comparison of Selection Rates (Last.fm)\n",
    "\n",
    "| Gender Group | Baseline Selection Rate | Fair Model (EG) | Reweighted Model (GridSearch) | Interpretation |\n",
    "|--------------|-------------------------|------------------|-------------------------------|----------------|\n",
    "| **Female**   | 0.008099 (0.81%)        | 0.004972 (0.50%) | 0.001420 (0.14%)              | Selection rate decreased across both models; GridSearch reduced it the most |\n",
    "| **Male**     | 0.004598 (0.46%)        | 0.004935 (0.49%) | 0.002597 (0.26%)              | Fair model aligned male with female; GridSearch made male the top group     |\n",
    "| **Other**    | 0.054545 (5.45%)        | 0.062500 (6.25%) | 0.000000 (0.00%)              | Fair model increased overrepresentation; GridSearch excluded the group      |\n",
    "\n",
    "---\n",
    "\n",
    "### Interpretation\n",
    "\n",
    "- The **Fair Model (ExponentiatedGradient)** successfully **balanced selection rates** between **male and female** groups, bringing them close to parity (~0.5%).\n",
    "- However, it **amplified bias toward the \"Other\" group**, increasing its already high selection rate despite the group's small size.\n",
    "- The **Reweighted Model (GridSearch)** reversed this:\n",
    "  - It further **reduced disparity between male and female**, but\n",
    "  - It **completely excluded the \"Other\" group**, reducing its selection rate to 0%.\n",
    "\n",
    "### Trade-Offs:\n",
    "\n",
    "- The **Fair Model** prioritized balancing the most common groups (male/female), but overrepresented the minority.\n",
    "- The **Reweighted Model** prioritized overall parity across the majority groups, but **ignored the minority**, raising concerns of **fairness exclusion**.\n",
    "\n",
    "---\n",
    "\n",
    "### Conclusion\n",
    "\n",
    "- **No single model achieved perfect fairness** across all gender groups.\n",
    "- The Fair Model kept the \"Other\" group visible but overexposed it.\n",
    "- The Reweighted Model removed this exposure but introduced exclusion.\n",
    "- These results highlight the **challenge of fairness mitigation** in datasets with **high class imbalance** and **minority-sensitive attributes**.\n"
   ]
  },
  {
   "cell_type": "code",
   "execution_count": null,
   "id": "62773270",
   "metadata": {},
   "outputs": [],
   "source": []
  }
 ],
 "metadata": {
  "kernelspec": {
   "display_name": "Python 3",
   "language": "python",
   "name": "python3"
  },
  "language_info": {
   "codemirror_mode": {
    "name": "ipython",
    "version": 3
   },
   "file_extension": ".py",
   "mimetype": "text/x-python",
   "name": "python",
   "nbconvert_exporter": "python",
   "pygments_lexer": "ipython3",
   "version": "3.11.9"
  }
 },
 "nbformat": 4,
 "nbformat_minor": 5
}
