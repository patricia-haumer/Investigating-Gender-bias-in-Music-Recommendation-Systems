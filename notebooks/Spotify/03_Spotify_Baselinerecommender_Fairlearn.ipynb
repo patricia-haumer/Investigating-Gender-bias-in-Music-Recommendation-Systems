{
 "cells": [
  {
   "cell_type": "markdown",
   "id": "bb87e6c2",
   "metadata": {},
   "source": [
    "## Using Fairlearn to detect gender bias in music recommender system: Spotify Million Dataset"
   ]
  },
  {
   "cell_type": "markdown",
   "id": "050caa01",
   "metadata": {},
   "source": [
    "### Baseline Recommender: Popularity-Based"
   ]
  },
  {
   "cell_type": "code",
   "execution_count": 1,
   "id": "d57bbf83",
   "metadata": {},
   "outputs": [
    {
     "name": "stdout",
     "output_type": "stream",
     "text": [
      "Top 100 Most Popular Tracks:\n",
      "   track_index  play_count                             track_uri  \\\n",
      "0       102035        4562  spotify:track:7KXjTSCq5nL1LoYtL7XAwS   \n",
      "1        27741        4355  spotify:track:1xznGGDReH1oQq0xzbwXa3   \n",
      "2       108379        4105  spotify:track:7yyRTcZmCiyzzJlNzGC9Ol   \n",
      "3        49986        3985  spotify:track:3a1lNhkSLSkpJE4MSHpDu9   \n",
      "4        79319        3540  spotify:track:5hTpBe8h35rJ67eAWHQsJx   \n",
      "5        15255        3485  spotify:track:152lZdxL1OR0ZMW6KquMif   \n",
      "6        31318        3473  spotify:track:2EEeOnHehOozLq4aS0n6SL   \n",
      "7       101161        3456  spotify:track:7GX5flRQZVHRAGd6B4TmDO   \n",
      "8         6392        3393  spotify:track:0SGkqnVQo9KPytSri1H6cF   \n",
      "9        84200        3319  spotify:track:62vpWI1CHwFy7tMIcSStl8   \n",
      "\n",
      "       artist_gender  \n",
      "0               male  \n",
      "1               male  \n",
      "2               male  \n",
      "3               male  \n",
      "4               male  \n",
      "5               male  \n",
      "6               male  \n",
      "7  non-binary gender  \n",
      "8               male  \n",
      "9             female  \n",
      "\n",
      "Top N Popular Track Recommendations:\n",
      "    track_index artist_gender  play_count\n",
      "0        102035          male        4562\n",
      "1         27741          male        4355\n",
      "2        108379          male        4105\n",
      "3         49986          male        3985\n",
      "4         79319          male        3540\n",
      "..          ...           ...         ...\n",
      "95        97204          male        1861\n",
      "96       107455          male        1853\n",
      "97        54602          male        1850\n",
      "98        83273          male        1850\n",
      "99        12739          male        1845\n",
      "\n",
      "[100 rows x 3 columns]\n"
     ]
    }
   ],
   "source": [
    "# Our Baseline recommender using item popularity\n",
    "\n",
    "import pandas as pd\n",
    "\n",
    "# Load data\n",
    "interactions_df = pd.read_csv(\"interactions.csv\")\n",
    "track_metadata_df = pd.read_csv(\"track_metadata.csv\")\n",
    "\n",
    "# Count how many times each track appears (popularity)\n",
    "track_popularity = interactions_df['track_index'].value_counts().reset_index()\n",
    "track_popularity.columns = ['track_index', 'play_count']\n",
    "\n",
    "# Merge with metadata to get artist gender\n",
    "popular_tracks = track_popularity.merge(track_metadata_df, on='track_index', how='left')\n",
    "\n",
    "# Preview the most popular tracks\n",
    "print(\"Top 100 Most Popular Tracks:\")\n",
    "print(popular_tracks.head(10))\n",
    "\n",
    "# Recommend top-N tracks\n",
    "N = 100\n",
    "def recommend_popular_tracks(top_n=N):\n",
    "\n",
    "    return popular_tracks.head(top_n)[['track_index', 'artist_gender', 'play_count']]\n",
    "\n",
    "# Example usage\n",
    "recommendations = recommend_popular_tracks()\n",
    "print(\"\\nTop N Popular Track Recommendations:\")\n",
    "print(recommendations)"
   ]
  },
  {
   "cell_type": "code",
   "execution_count": 2,
   "id": "2e3bdbf3",
   "metadata": {},
   "outputs": [],
   "source": [
    "#save top_n_track_ids\n",
    "top_n_track_ids = set(recommendations['track_index'].tolist())"
   ]
  },
  {
   "cell_type": "code",
   "execution_count": null,
   "id": "29cff938",
   "metadata": {},
   "outputs": [
    {
     "name": "stdout",
     "output_type": "stream",
     "text": [
      "🎯 Gender distribution in Top 100 Recommended Tracks (%):\n",
      "artist_gender\n",
      "male                 91.0\n",
      "female                6.0\n",
      "non-binary gender     3.0\n",
      "Name: proportion, dtype: float64\n"
     ]
    }
   ],
   "source": [
    "# Filter only the top-N recommended tracks\n",
    "recommended_tracks = popular_tracks[popular_tracks['track_index'].isin(top_n_track_ids)]\n",
    "\n",
    "# Show distribution of artist gender\n",
    "gender_distribution = recommended_tracks['artist_gender'].value_counts(normalize=True) * 100\n",
    "\n",
    "# Print result\n",
    "print(\"Gender distribution in Top 100 Recommended Tracks (%):\")\n",
    "print(gender_distribution.round(2))"
   ]
  },
  {
   "cell_type": "markdown",
   "id": "620036b1",
   "metadata": {},
   "source": [
    "# Popularity-Based Baseline Recommender: Interpretation\n",
    "\n",
    "We implemented a popularity-based recommender system that recommends the same **Top 100 most popular tracks** to every user. These tracks were identified based on how frequently they appeared across all playlists.\n",
    "\n",
    "---\n",
    "\n",
    "## Gender Distribution in Top 100 Tracks\n",
    "\n",
    "Below is the approximate gender distribution among the Top 100 tracks recommended:\n",
    "\n",
    "| Artist Gender       | Percentage (%) |\n",
    "|---------------------|----------------|\n",
    "| male                | 91%            |\n",
    "| female              | 6%             |\n",
    "| non-binary gender   | 3%             |\n",
    "\n",
    "---\n",
    "\n",
    ">  **Observation:** The popularity-based recommender overwhelmingly favors male artists. This may reflect user behavior in the dataset or historical disparities in artist exposure, but it raises concerns about fairness and representation.\n",
    "\n",
    "**Key Insight:** The popularity-based recommender system, while simple and effective at surfacing the most played tracks, **amplifies existing gender biases** present in the dataset. In fact, **over 90% of the Top 100 recommended tracks are by male artists**, with only a small fraction representing female or non-binary artists.\n",
    "\n",
    "---\n",
    "\n",
    "### Implications:\n",
    "\n",
    "- The model recommends tracks purely based on their historical frequency in playlists.\n",
    "- Since male artists dominate historical listening behavior in the dataset, the recommender **over-represents male artists**.\n",
    "- All users receive the same recommendations — meaning the bias is applied uniformly and **systematically reinforces a skewed distribution**.\n",
    "- While this model is useful as a **baseline benchmark**, it is **not suitable for fair or inclusive recommendation tasks**."
   ]
  },
  {
   "cell_type": "markdown",
   "id": "9c931ca8",
   "metadata": {},
   "source": [
    "### Bias detection using Fairlearn"
   ]
  },
  {
   "cell_type": "code",
   "execution_count": 2,
   "id": "701d63fc",
   "metadata": {},
   "outputs": [],
   "source": [
    "#install requires libraries\n",
    "#!pip install fairlearn scikit-learn matplotlib pandas\n",
    "\n",
    "#sucessfully installed\n"
   ]
  },
  {
   "cell_type": "code",
   "execution_count": null,
   "id": "6afc7499",
   "metadata": {},
   "outputs": [
    {
     "name": "stdout",
     "output_type": "stream",
     "text": [
      "Found existing installation: numpy 1.26.4"
     ]
    },
    {
     "name": "stderr",
     "output_type": "stream",
     "text": [
      "WARNING: Failed to remove contents in a temporary directory 'C:\\Users\\patri\\AppData\\Local\\Packages\\PythonSoftwareFoundation.Python.3.11_qbz5n2kfra8p0\\LocalCache\\local-packages\\Python311\\site-packages\\~%mpy.libs'.\n",
      "You can safely remove it manually.\n",
      "WARNING: Failed to remove contents in a temporary directory 'C:\\Users\\patri\\AppData\\Local\\Packages\\PythonSoftwareFoundation.Python.3.11_qbz5n2kfra8p0\\LocalCache\\local-packages\\Python311\\site-packages\\~0mpy'.\n",
      "You can safely remove it manually.\n"
     ]
    },
    {
     "name": "stdout",
     "output_type": "stream",
     "text": [
      "\n",
      "Uninstalling numpy-1.26.4:\n",
      "  Successfully uninstalled numpy-1.26.4\n",
      "Found existing installation: scipy 1.16.0\n",
      "Uninstalling scipy-1.16.0:\n",
      "  Successfully uninstalled scipy-1.16.0\n",
      "Found existing installation: scikit-learn 1.7.0\n",
      "Uninstalling scikit-learn-1.7.0:\n",
      "  Successfully uninstalled scikit-learn-1.7.0\n",
      "Found existing installation: fairlearn 0.12.0\n",
      "Uninstalling fairlearn-0.12.0:\n",
      "  Successfully uninstalled fairlearn-0.12.0\n"
     ]
    }
   ],
   "source": [
    "#due to a conflict uninstall numpy scipy scikit-learn fairlearn -y\n",
    "#!pip uninstall numpy scipy scikit-learn fairlearn -y"
   ]
  },
  {
   "cell_type": "code",
   "execution_count": null,
   "id": "c5bfd27e",
   "metadata": {},
   "outputs": [
    {
     "name": "stdout",
     "output_type": "stream",
     "text": [
      "Collecting numpy==1.26.4\n",
      "  Using cached numpy-1.26.4-cp311-cp311-win_amd64.whl.metadata (61 kB)\n",
      "Using cached numpy-1.26.4-cp311-cp311-win_amd64.whl (15.8 MB)\n",
      "Installing collected packages: numpy\n",
      "Successfully installed numpy-1.26.4\n"
     ]
    },
    {
     "name": "stderr",
     "output_type": "stream",
     "text": [
      "ERROR: pip's dependency resolver does not currently take into account all the packages that are installed. This behaviour is the source of the following dependency conflicts.\n",
      "aif360 0.6.1 requires scikit-learn>=1.0, which is not installed.\n",
      "aif360 0.6.1 requires scipy>=1.2.0, which is not installed.\n",
      "imagehash 4.3.2 requires scipy, which is not installed.\n",
      "imbalanced-learn 0.13.0 requires scikit-learn<2,>=1.3.2, which is not installed.\n",
      "imbalanced-learn 0.13.0 requires scipy<2,>=1.10.1, which is not installed.\n",
      "implicit 0.7.2 requires scipy>=0.16, which is not installed.\n",
      "missingno 0.5.2 requires scipy, which is not installed.\n",
      "pandas-profiling 3.2.0 requires scipy>=1.4.1, which is not installed.\n",
      "phik 0.12.4 requires scipy>=1.5.2, which is not installed.\n",
      "recbole 1.2.1 requires scikit-learn>=0.23.2, which is not installed.\n",
      "recbole 1.2.1 requires scipy>=1.6.0, which is not installed.\n",
      "xgboost 2.1.3 requires scipy, which is not installed.\n",
      "pandas-profiling 3.2.0 requires joblib~=1.1.0, but you have joblib 1.5.1 which is incompatible.\n"
     ]
    },
    {
     "name": "stdout",
     "output_type": "stream",
     "text": [
      "Collecting scipy"
     ]
    },
    {
     "name": "stderr",
     "output_type": "stream",
     "text": [
      "ERROR: pip's dependency resolver does not currently take into account all the packages that are installed. This behaviour is the source of the following dependency conflicts.\n",
      "aif360 0.6.1 requires scikit-learn>=1.0, which is not installed.\n",
      "imbalanced-learn 0.13.0 requires scikit-learn<2,>=1.3.2, which is not installed.\n",
      "recbole 1.2.1 requires scikit-learn>=0.23.2, which is not installed.\n",
      "pandas-profiling 3.2.0 requires joblib~=1.1.0, but you have joblib 1.5.1 which is incompatible.\n"
     ]
    },
    {
     "name": "stdout",
     "output_type": "stream",
     "text": [
      "\n",
      "  Using cached scipy-1.16.0-cp311-cp311-win_amd64.whl.metadata (60 kB)\n",
      "Requirement already satisfied: numpy<2.6,>=1.25.2 in c:\\users\\patri\\appdata\\local\\packages\\pythonsoftwarefoundation.python.3.11_qbz5n2kfra8p0\\localcache\\local-packages\\python311\\site-packages (from scipy) (1.26.4)\n",
      "Using cached scipy-1.16.0-cp311-cp311-win_amd64.whl (38.6 MB)\n",
      "Installing collected packages: scipy\n",
      "Successfully installed scipy-1.16.0\n",
      "Collecting scikit-learn\n",
      "  Using cached scikit_learn-1.7.0-cp311-cp311-win_amd64.whl.metadata (14 kB)\n",
      "Requirement already satisfied: numpy>=1.22.0 in c:\\users\\patri\\appdata\\local\\packages\\pythonsoftwarefoundation.python.3.11_qbz5n2kfra8p0\\localcache\\local-packages\\python311\\site-packages (from scikit-learn) (1.26.4)\n",
      "Requirement already satisfied: scipy>=1.8.0 in c:\\users\\patri\\appdata\\local\\packages\\pythonsoftwarefoundation.python.3.11_qbz5n2kfra8p0\\localcache\\local-packages\\python311\\site-packages (from scikit-learn) (1.16.0)\n",
      "Requirement already satisfied: joblib>=1.2.0 in c:\\users\\patri\\appdata\\local\\packages\\pythonsoftwarefoundation.python.3.11_qbz5n2kfra8p0\\localcache\\local-packages\\python311\\site-packages (from scikit-learn) (1.5.1)\n",
      "Requirement already satisfied: threadpoolctl>=3.1.0 in c:\\users\\patri\\appdata\\local\\packages\\pythonsoftwarefoundation.python.3.11_qbz5n2kfra8p0\\localcache\\local-packages\\python311\\site-packages (from scikit-learn) (3.5.0)\n",
      "Using cached scikit_learn-1.7.0-cp311-cp311-win_amd64.whl (10.7 MB)\n",
      "Installing collected packages: scikit-learn\n",
      "Successfully installed scikit-learn-1.7.0\n"
     ]
    },
    {
     "name": "stderr",
     "output_type": "stream",
     "text": [
      "ERROR: pip's dependency resolver does not currently take into account all the packages that are installed. This behaviour is the source of the following dependency conflicts.\n",
      "sklearn-compat 0.1.3 requires scikit-learn<1.7,>=1.2, but you have scikit-learn 1.7.0 which is incompatible.\n"
     ]
    },
    {
     "name": "stdout",
     "output_type": "stream",
     "text": [
      "Collecting fairlearn\n",
      "  Using cached fairlearn-0.12.0-py3-none-any.whl.metadata (7.0 kB)\n",
      "Requirement already satisfied: numpy>=1.24.4 in c:\\users\\patri\\appdata\\local\\packages\\pythonsoftwarefoundation.python.3.11_qbz5n2kfra8p0\\localcache\\local-packages\\python311\\site-packages (from fairlearn) (1.26.4)\n",
      "Requirement already satisfied: pandas>=2.0.3 in c:\\users\\patri\\appdata\\local\\packages\\pythonsoftwarefoundation.python.3.11_qbz5n2kfra8p0\\localcache\\local-packages\\python311\\site-packages (from fairlearn) (2.2.3)\n",
      "Requirement already satisfied: scikit-learn>=1.2.1 in c:\\users\\patri\\appdata\\local\\packages\\pythonsoftwarefoundation.python.3.11_qbz5n2kfra8p0\\localcache\\local-packages\\python311\\site-packages (from fairlearn) (1.7.0)\n",
      "Requirement already satisfied: scipy>=1.9.3 in c:\\users\\patri\\appdata\\local\\packages\\pythonsoftwarefoundation.python.3.11_qbz5n2kfra8p0\\localcache\\local-packages\\python311\\site-packages (from fairlearn) (1.16.0)\n",
      "Requirement already satisfied: python-dateutil>=2.8.2 in c:\\users\\patri\\appdata\\local\\packages\\pythonsoftwarefoundation.python.3.11_qbz5n2kfra8p0\\localcache\\local-packages\\python311\\site-packages (from pandas>=2.0.3->fairlearn) (2.9.0.post0)\n",
      "Requirement already satisfied: pytz>=2020.1 in c:\\users\\patri\\appdata\\local\\packages\\pythonsoftwarefoundation.python.3.11_qbz5n2kfra8p0\\localcache\\local-packages\\python311\\site-packages (from pandas>=2.0.3->fairlearn) (2024.2)\n",
      "Requirement already satisfied: tzdata>=2022.7 in c:\\users\\patri\\appdata\\local\\packages\\pythonsoftwarefoundation.python.3.11_qbz5n2kfra8p0\\localcache\\local-packages\\python311\\site-packages (from pandas>=2.0.3->fairlearn) (2025.1)\n",
      "Requirement already satisfied: six>=1.5 in c:\\users\\patri\\appdata\\local\\packages\\pythonsoftwarefoundation.python.3.11_qbz5n2kfra8p0\\localcache\\local-packages\\python311\\site-packages (from python-dateutil>=2.8.2->pandas>=2.0.3->fairlearn) (1.17.0)\n",
      "Requirement already satisfied: joblib>=1.2.0 in c:\\users\\patri\\appdata\\local\\packages\\pythonsoftwarefoundation.python.3.11_qbz5n2kfra8p0\\localcache\\local-packages\\python311\\site-packages (from scikit-learn>=1.2.1->fairlearn) (1.5.1)\n",
      "Requirement already satisfied: threadpoolctl>=3.1.0 in c:\\users\\patri\\appdata\\local\\packages\\pythonsoftwarefoundation.python.3.11_qbz5n2kfra8p0\\localcache\\local-packages\\python311\\site-packages (from scikit-learn>=1.2.1->fairlearn) (3.5.0)\n",
      "Using cached fairlearn-0.12.0-py3-none-any.whl (240 kB)\n",
      "Installing collected packages: fairlearn\n",
      "Successfully installed fairlearn-0.12.0\n"
     ]
    }
   ],
   "source": [
    "#and install again in the following order \n",
    "#!pip install numpy==1.26.4\n",
    "#!pip install scipy\n",
    "#!pip install scikit-learn\n",
    "#!pip install fairlearn"
   ]
  },
  {
   "cell_type": "code",
   "execution_count": 5,
   "id": "16818e9e",
   "metadata": {},
   "outputs": [
    {
     "name": "stdout",
     "output_type": "stream",
     "text": [
      "Packages are working fine!\n"
     ]
    }
   ],
   "source": [
    "#check if packages are working\n",
    "import numpy as np\n",
    "import pandas as pd\n",
    "from fairlearn.metrics import MetricFrame, selection_rate, demographic_parity_difference\n",
    "\n",
    "print(\"Packages are working fine!\")"
   ]
  },
  {
   "cell_type": "code",
   "execution_count": 6,
   "id": "d8996ca0",
   "metadata": {},
   "outputs": [],
   "source": [
    "#import additional libraries\n",
    "from fairlearn.metrics import MetricFrame, selection_rate, demographic_parity_difference, demographic_parity_ratio\n",
    "import matplotlib.pyplot as plt"
   ]
  },
  {
   "cell_type": "markdown",
   "id": "d5766350",
   "metadata": {},
   "source": [
    "### Prepare Input for using Fairlearn and Treat Top-100 tracks from the model as recommended"
   ]
  },
  {
   "cell_type": "code",
   "execution_count": null,
   "id": "3f109851",
   "metadata": {},
   "outputs": [],
   "source": [
    "import pandas as pd\n",
    "\n",
    "# Load your data\n",
    "interactions_df = pd.read_csv(\"interactions.csv\")\n",
    "track_metadata_df = pd.read_csv(\"track_metadata.csv\")  \n",
    "\n",
    "# Compute popularity\n",
    "track_popularity = interactions_df['track_index'].value_counts().reset_index()\n",
    "track_popularity.columns = ['track_index', 'play_count']\n",
    "\n",
    "# Step 1: Define Top-N recommended track IDs\n",
    "N = 100\n",
    "top_n_track_ids = track_popularity.head(N)['track_index'].tolist()\n",
    "\n",
    "# Step 2: Merge full metadata with popularity (not just popular tracks)\n",
    "full_tracks = track_metadata_df.merge(track_popularity, on='track_index', how='left')\n",
    "\n",
    "# Step 3: Fill missing play counts with 0\n",
    "full_tracks['play_count'] = full_tracks['play_count'].fillna(0)\n",
    "\n",
    "# Step 4: Label top-N tracks as 1, all others as 0\n",
    "full_tracks['label'] = full_tracks['track_index'].isin(top_n_track_ids).astype(int)"
   ]
  },
  {
   "cell_type": "code",
   "execution_count": null,
   "id": "c951a333",
   "metadata": {},
   "outputs": [
    {
     "name": "stdout",
     "output_type": "stream",
     "text": [
      "🎯 Absolute Gender Distribution in Full Catalog:\n",
      "artist_gender\n",
      "male                 85720\n",
      "female               22277\n",
      "non-binary gender      442\n",
      "genderfluid             92\n",
      "trans woman             44\n",
      "agender                 32\n",
      "neutral sex              1\n",
      "Name: count, dtype: int64\n",
      "\n",
      "📊 Percentage Distribution:\n",
      "artist_gender\n",
      "male                 78.93\n",
      "female               20.51\n",
      "non-binary gender     0.41\n",
      "genderfluid           0.08\n",
      "trans woman           0.04\n",
      "agender               0.03\n",
      "neutral sex           0.00\n",
      "Name: proportion, dtype: float64\n"
     ]
    }
   ],
   "source": [
    "# Absolute counts\n",
    "print(\"Absolute Gender Distribution in Full Catalog:\")\n",
    "print(full_tracks['artist_gender'].value_counts(dropna=False))\n",
    "\n",
    "# Percentage distribution\n",
    "print(\"\\nPercentage Distribution:\")\n",
    "print(full_tracks['artist_gender'].value_counts(normalize=True, dropna=False).mul(100).round(2))"
   ]
  },
  {
   "cell_type": "markdown",
   "id": "18093f6b",
   "metadata": {},
   "source": [
    "If the recommender was perfectly unbiased and proportional, we’d expect about: 79 male tracks, 20 female tracks, 1 from non-binary or another minority group."
   ]
  },
  {
   "cell_type": "markdown",
   "id": "623accdf",
   "metadata": {},
   "source": [
    "### Definition of Sensitive/Protected Attribute\n"
   ]
  },
  {
   "cell_type": "code",
   "execution_count": null,
   "id": "d5d4f53b",
   "metadata": {},
   "outputs": [],
   "source": [
    "def map_gender_category(gender):\n",
    "    gender = str(gender).strip().lower()\n",
    "    if gender == 'male':\n",
    "        return 'male'\n",
    "    elif gender == 'female':\n",
    "        return 'female'\n",
    "    elif 'non-binary' in gender or 'nonbinary' in gender:\n",
    "        return 'nonbinary'\n",
    "    else:\n",
    "        return 'other'\n",
    "\n",
    "# Apply to new column\n",
    "full_tracks['gender_grouped'] = full_tracks['artist_gender'].apply(map_gender_category)"
   ]
  },
  {
   "cell_type": "markdown",
   "id": "87f6c9d9",
   "metadata": {},
   "source": [
    "### Metrics computation using Fairlearn"
   ]
  },
  {
   "cell_type": "code",
   "execution_count": 15,
   "id": "2a1a0172",
   "metadata": {},
   "outputs": [
    {
     "name": "stdout",
     "output_type": "stream",
     "text": [
      "🎯 Selection rate by gender group (multiclass):\n",
      "gender_grouped\n",
      "female       0.000269\n",
      "male         0.001062\n",
      "nonbinary    0.006787\n",
      "other        0.000000\n",
      "Name: selection_rate, dtype: float64\n"
     ]
    }
   ],
   "source": [
    "from fairlearn.metrics import MetricFrame, selection_rate\n",
    "\n",
    "# Use full labeled dataset\n",
    "y_true = full_tracks['label']\n",
    "sensitive_attr = full_tracks['gender_grouped']  # multiclass: male, female, nonbinary, other\n",
    "\n",
    "# MetricFrame for selection rate\n",
    "mf = MetricFrame(\n",
    "    metrics=selection_rate,\n",
    "    y_true=y_true,\n",
    "    y_pred=y_true,  # for baseline recommender\n",
    "    sensitive_features=sensitive_attr\n",
    ")\n",
    "\n",
    "# Print selection rate per gender group\n",
    "print(\"🎯 Selection rate by gender group (multiclass):\")\n",
    "print(mf.by_group)"
   ]
  },
  {
   "cell_type": "markdown",
   "id": "3aab381e",
   "metadata": {},
   "source": [
    "### Visualize selection rates by gender groups"
   ]
  },
  {
   "cell_type": "code",
   "execution_count": 16,
   "id": "c5b55eee",
   "metadata": {},
   "outputs": [
    {
     "data": {
      "image/png": "[encoded data removed]",
      "text/plain": [
       "<Figure size 800x500 with 1 Axes>"
      ]
     },
     "metadata": {},
     "output_type": "display_data"
    }
   ],
   "source": [
    "import matplotlib.pyplot as plt\n",
    "\n",
    "# Extract selection rates from MetricFrame\n",
    "selection_rates = mf.by_group  # This is a pandas Series\n",
    "\n",
    "# Create the plot\n",
    "plt.figure(figsize=(8, 5))\n",
    "bars = plt.bar(selection_rates.index, selection_rates.values, color='skyblue')\n",
    "\n",
    "# Add title and axis labels\n",
    "plt.title('Selection Rate by Gender Group (Multiclass)', fontsize=14)\n",
    "plt.ylabel('Selection Rate')\n",
    "plt.ylim(0, selection_rates.max() * 1.2)\n",
    "plt.grid(axis='y', linestyle='--', alpha=0.6)\n",
    "\n",
    "# Add exact values as text above each bar\n",
    "for bar in bars:\n",
    "    height = bar.get_height()\n",
    "    plt.text(bar.get_x() + bar.get_width() / 2, height + 0.0001,\n",
    "             f'{height:.6f}', ha='center', va='bottom', fontsize=9)\n",
    "\n",
    "plt.tight_layout()\n",
    "plt.show()"
   ]
  },
  {
   "cell_type": "markdown",
   "id": "14f9d234",
   "metadata": {},
   "source": [
    "## Selection Rate by Gender Group\n",
    "\n",
    "| Gender Group | Selection Rate      | Interpretation                                                  |\n",
    "|--------------|---------------------|------------------------------------------------------------------|\n",
    "| **Male**     | 0.001062 (0.11%)    | 🟢 Highest selection rate — most favored group                   |\n",
    "| **Female**   | 0.000269 (0.03%)    | 🔴 Much lower selection rate — clear underrepresentation         |\n",
    "| **Nonbinary**| 0.006787 (0.68%)    | 🟡 Very high relative to their catalog share — possible overrepresentation |\n",
    "| **Other**    | 0.000000            | ⚠️ No tracks selected at all from this group                     |\n",
    "\n",
    "---\n",
    "\n",
    "### What This Means? \n",
    "\n",
    "- **Bias is present.** Male artists are ~4× more likely to be recommended than female artists.\n",
    "- **Nonbinary overrepresentation**: although they make up <1% of the catalog, their selection rate is significantly higher.\n",
    "- **No representation** for the \"other\" category — none of their tracks were recommended.\n",
    "\n",
    "---\n",
    "\n",
    "This outcome is based on selecting the **Top 100 most popular tracks**, and:\n",
    "- Popularity often reflects **historical user behavior**, which can carry **inherent biases**.\n",
    "- If male artists dominate in **past play counts**, they will also dominate in recommendations — unless mitigated.\n",
    "\n",
    "---"
   ]
  },
  {
   "cell_type": "markdown",
   "id": "96f79791",
   "metadata": {},
   "source": [
    "### Inspection of Pairwise Demographic Parity Differences (DPD) \n",
    "These are useful for identifying specific fairness disparities between individual gender groups, rather than just looking at the overall range. This helps reveal whether certain groups are consistently under- or over-recommended relative to others. It also allows for a more nuanced understanding of fairness in multiclass settings, where biases may affect each group differently. By comparing each group pair directly, we can target mitigation efforts more precisely."
   ]
  },
  {
   "cell_type": "code",
   "execution_count": 17,
   "id": "61e32e24",
   "metadata": {},
   "outputs": [
    {
     "name": "stdout",
     "output_type": "stream",
     "text": [
      "     Group A    Group B  DP Difference (A vs B)\n",
      "0     female       male                0.000792\n",
      "1     female  nonbinary                0.006518\n",
      "2     female      other                0.000269\n",
      "3       male  nonbinary                0.005726\n",
      "4       male      other                0.001062\n",
      "5  nonbinary      other                0.006787\n"
     ]
    }
   ],
   "source": [
    "import pandas as pd\n",
    "from fairlearn.metrics import demographic_parity_difference\n",
    "\n",
    "# Define gender groups\n",
    "gender_groups = full_tracks['gender_grouped'].unique()\n",
    "\n",
    "# Collect pairwise DPDs\n",
    "dpd_results = []\n",
    "\n",
    "for i, group_a in enumerate(gender_groups):\n",
    "    for j, group_b in enumerate(gender_groups):\n",
    "        if i < j:\n",
    "            binary_sensitive = full_tracks['gender_grouped'].apply(\n",
    "                lambda x: 1 if x == group_a else (0 if x == group_b else None)\n",
    "            )\n",
    "\n",
    "            mask = binary_sensitive.notnull()\n",
    "\n",
    "            dpd = demographic_parity_difference(\n",
    "                y_true=full_tracks.loc[mask, 'label'],\n",
    "                y_pred=full_tracks.loc[mask, 'label'],  # baseline model\n",
    "                sensitive_features=binary_sensitive[mask]\n",
    "            )\n",
    "\n",
    "            dpd_results.append({\n",
    "                'Group A': group_a,\n",
    "                'Group B': group_b,\n",
    "                'DP Difference (A vs B)': dpd\n",
    "            })\n",
    "\n",
    "# Show results\n",
    "dpd_df = pd.DataFrame(dpd_results)\n",
    "print(dpd_df)"
   ]
  },
  {
   "cell_type": "markdown",
   "id": "1c3ecbae",
   "metadata": {},
   "source": [
    "## Interpretation of Pairwise Demographic Parity Differences (DPD)\n",
    "\n",
    "| Comparison             | DPD (A vs B) | Interpretation |\n",
    "|------------------------|--------------|----------------|\n",
    "| **female vs male**     | 0.000792     | Female artists are recommended less often than male artists. |\n",
    "| **female vs nonbinary**| 0.006518     | Female artists are significantly under-recommended compared to nonbinary artists. |\n",
    "| **female vs other**    | 0.000269     | A small difference suggests female and \"other\" groups are similarly underrepresented. |\n",
    "| **male vs nonbinary**  | 0.005726     | Nonbinary artists are recommended more often than male artists. |\n",
    "| **male vs other**      | 0.001062     | Male artists are recommended more than the \"other\" group. |\n",
    "| **nonbinary vs other** | 0.006787     | The largest gap — nonbinary artists are far more likely to be recommended than those in the \"other\" group. |\n",
    "\n",
    "---\n",
    "\n",
    "### Key Insight of the DPD Evaluation\n",
    "The largest disparities occur between nonbinary artists and all other groups, especially the \"other\" category. Female artists are consistently less recommended than both male and nonbinary artists, highlighting an area for potential fairness improvement.\n"
   ]
  },
  {
   "cell_type": "markdown",
   "id": "fec51799",
   "metadata": {},
   "source": [
    "## Bias Mitigation"
   ]
  },
  {
   "cell_type": "markdown",
   "id": "d44c3c28",
   "metadata": {},
   "source": [
    "### Bias Mitigation using all genders: (Female - Male - Non-binary - Others)"
   ]
  },
  {
   "cell_type": "markdown",
   "id": "5bc312a6",
   "metadata": {},
   "source": [
    "### In-Processing: Fairness-Aware Learning using Fairlearn’s ExponentiatedGradient"
   ]
  },
  {
   "cell_type": "code",
   "execution_count": 33,
   "id": "eed86f69",
   "metadata": {},
   "outputs": [
    {
     "name": "stdout",
     "output_type": "stream",
     "text": [
      "Selection Rate by Gender Group (Fair Model):\n",
      "gender_grouped\n",
      "female       0.000150\n",
      "male         0.001128\n",
      "nonbinary    0.007519\n",
      "other        0.000000\n",
      "Name: selection_rate, dtype: float64\n",
      "\n",
      "📏 Selection Rate Range (Max - Min): 0.0075\n"
     ]
    }
   ],
   "source": [
    "from fairlearn.reductions import ExponentiatedGradient, DemographicParity\n",
    "from fairlearn.metrics import MetricFrame, selection_rate\n",
    "from sklearn.linear_model import LogisticRegression\n",
    "from sklearn.model_selection import train_test_split\n",
    "\n",
    "# STEP 1: Prepare features, labels, and sensitive attribute\n",
    "X = full_tracks[['play_count']]\n",
    "y = full_tracks['label']\n",
    "sensitive = full_tracks['gender_grouped']  # multiclass: male, female, nonbinary, other\n",
    "\n",
    "# Combine into one DataFrame for stratified sampling\n",
    "df_all = X.copy()\n",
    "df_all['label'] = y\n",
    "df_all['gender_grouped'] = sensitive\n",
    "\n",
    "# STEP 2: Stratified train-test split to preserve gender group proportions\n",
    "train_df, test_df = train_test_split(\n",
    "    df_all,\n",
    "    test_size=0.3,\n",
    "    stratify=df_all['gender_grouped'],\n",
    "    random_state=42\n",
    ")\n",
    "\n",
    "# STEP 3: Separate training and test components\n",
    "X_train = train_df[['play_count']]\n",
    "y_train = train_df['label']\n",
    "s_train = train_df['gender_grouped']\n",
    "\n",
    "X_test = test_df[['play_count']]\n",
    "y_test = test_df['label']\n",
    "s_test = test_df['gender_grouped']\n",
    "\n",
    "# STEP 4: Train a fairness-aware model using Exponentiated Gradient\n",
    "base_model = LogisticRegression(solver='liblinear')\n",
    "mitigator = ExponentiatedGradient(\n",
    "    estimator=base_model,\n",
    "    constraints=DemographicParity()\n",
    ")\n",
    "mitigator.fit(X_train, y_train, sensitive_features=s_train)\n",
    "\n",
    "# STEP 5: Predict using the fair model\n",
    "y_pred_fair = mitigator.predict(X_test)\n",
    "\n",
    "# STEP 6: Evaluate fairness (selection rate per gender group)\n",
    "mf_multi = MetricFrame(\n",
    "    metrics=selection_rate,\n",
    "    y_true=y_test,\n",
    "    y_pred=y_pred_fair,\n",
    "    sensitive_features=s_test\n",
    ")\n",
    "\n",
    "# Output results\n",
    "print(\"Selection Rate by Gender Group (Fair Model):\")\n",
    "print(mf_multi.by_group)\n",
    "\n",
    "range_diff = mf_multi.by_group.max() - mf_multi.by_group.min()\n",
    "print(f\"\\n📏 Selection Rate Range (Max - Min): {range_diff:.4f}\")"
   ]
  },
  {
   "cell_type": "markdown",
   "id": "48b1ec15",
   "metadata": {},
   "source": [
    "## Selection Rate by Gender Group (Fair Model)\n",
    "\n",
    "| Gender Group | Selection Rate |\n",
    "|--------------|----------------|\n",
    "| **female**   | 0.000150 (0.015%) |\n",
    "| **male**     | 0.001128 (0.11%)  |\n",
    "| **nonbinary**| 0.007519 (0.75%)  |\n",
    "| **other**    | 0.000000 (0.00%)  |\n",
    "\n",
    "---\n",
    "\n",
    "### **Interpretation**\n",
    "- **Non-binary artists** have the **highest selection rate** (0.75%), indicating a **disproportionately higher exposure** compared to other groups.\n",
    "- **Male artists** are selected at a moderate rate (0.11%), while **female artists** are selected less frequently (0.015%).\n",
    "- The **\"other\" group**, which includes diverse identities like agender, genderfluid, and trans woman, has a **selection rate of 0.00%**, indicating complete exclusion in this fairness-aware recommendation output.\n",
    "\n",
    "---\n",
    "\n",
    "### **Observations**\n",
    "- The fairness mitigation did not successfully equalize exposure across all gender groups.\n",
    "- While **non-binary exposure increased significantly**, **female and \"other\" categories remained underrepresented**.\n",
    "- The **\"other\" category’s absence** from the recommendations suggests the model may still overlook minority groups with small sample sizes.\n",
    "\n",
    "---\n",
    "\n",
    "### **Key Findings**\n",
    "- The **selection rate range of 0.0075** shows a **large disparity** remains between the best- and worst-represented groups, even after mitigation.\n",
    "- **In-processing alone is insufficient** to ensure equal visibility for all gender identities in this setup.\n",
    "\n",
    "--- \n",
    "\n",
    "The baseline recommender doesn’t consider fairness — it just picks the most popular tracks, which often reflect historical bias. The mitigated model actively tries to correct for bias — but it might affect accuracy or exposure in other ways, that's what we experienced in this case.\n",
    "\n",
    "## Comparison Baseline Recommender VS Fair Model\n",
    "\n",
    "To fairly compare the **baseline recommender** and the **fairness-aware model**, we need to evaluate both using the **same data** — in this case, the test set created during the fairness-aware model training.\n",
    "\n",
    "This is important because:\n",
    "- ✅ It ensures both models are judged under **identical conditions** — same tracks, same gender distribution.\n",
    "- ✅ It avoids bias caused by different sample sizes or group proportions between training and full datasets.\n",
    "- ✅ It aligns with standard **machine learning evaluation practices**, where performance (including fairness) is measured on **held-out data**.\n",
    "- ❌ Comparing the fair model on a test set vs. the baseline on the full dataset would introduce inconsistency and **make fairness metrics unreliable**.\n",
    "\n",
    "By using the **same test split**, we ensure the fairness comparison reflects true differences in model behavior — not differences in data.\n"
   ]
  },
  {
   "cell_type": "code",
   "execution_count": 22,
   "id": "d9379fff",
   "metadata": {},
   "outputs": [
    {
     "name": "stdout",
     "output_type": "stream",
     "text": [
      "🎯 Baseline Selection Rate by Gender Group (on Test Set):\n",
      "gender_grouped\n",
      "female       0.000150\n",
      "male         0.001244\n",
      "nonbinary    0.007519\n",
      "other        0.000000\n",
      "Name: selection_rate, dtype: float64\n"
     ]
    }
   ],
   "source": [
    "from fairlearn.metrics import MetricFrame, selection_rate\n",
    "\n",
    "# Baseline fairness on the test set (same as fair model)\n",
    "mf_baseline_test = MetricFrame(\n",
    "    metrics=selection_rate,\n",
    "    y_true=test_df['label'],\n",
    "    y_pred=test_df['label'],  # baseline just uses the label\n",
    "    sensitive_features=test_df['gender_grouped']\n",
    ")\n",
    "\n",
    "print(\"🎯 Baseline Selection Rate by Gender Group (on Test Set):\")\n",
    "print(mf_baseline_test.by_group)"
   ]
  },
  {
   "cell_type": "code",
   "execution_count": 23,
   "id": "13b443dc",
   "metadata": {},
   "outputs": [
    {
     "name": "stderr",
     "output_type": "stream",
     "text": [
      "C:\\Users\\patri\\AppData\\Local\\Temp\\ipykernel_18796\\3975221063.py:34: FutureWarning: Series.__getitem__ treating keys as positions is deprecated. In a future version, integer keys will always be treated as labels (consistent with DataFrame behavior). To access a value by position, use `ser.iloc[pos]`\n",
      "  plt.text(x[i] - width/2, baseline_rates[i] + 0.0001, f'{baseline_rates[i]:.6f}', ha='center', fontsize=8)\n",
      "C:\\Users\\patri\\AppData\\Local\\Temp\\ipykernel_18796\\3975221063.py:35: FutureWarning: Series.__getitem__ treating keys as positions is deprecated. In a future version, integer keys will always be treated as labels (consistent with DataFrame behavior). To access a value by position, use `ser.iloc[pos]`\n",
      "  plt.text(x[i] + width/2, fair_rates[i] + 0.0001, f'{fair_rates[i]:.6f}', ha='center', fontsize=8)\n",
      "C:\\Users\\patri\\AppData\\Local\\Temp\\ipykernel_18796\\3975221063.py:37: UserWarning: Glyph 127911 (\\N{HEADPHONE}) missing from font(s) DejaVu Sans.\n",
      "  plt.tight_layout()\n",
      "C:\\Users\\patri\\AppData\\Local\\Packages\\PythonSoftwareFoundation.Python.3.11_qbz5n2kfra8p0\\LocalCache\\local-packages\\Python311\\site-packages\\IPython\\core\\pylabtools.py:170: UserWarning: Glyph 127911 (\\N{HEADPHONE}) missing from font(s) DejaVu Sans.\n",
      "  fig.canvas.print_figure(bytes_io, **kw)\n"
     ]
    },
    {
     "data": {
      "image/png": "[encoded data removed]",
      "text/plain": [
       "<Figure size 1000x600 with 1 Axes>"
      ]
     },
     "metadata": {},
     "output_type": "display_data"
    }
   ],
   "source": [
    "import matplotlib.pyplot as plt\n",
    "import numpy as np\n",
    "from fairlearn.metrics import MetricFrame, selection_rate\n",
    "\n",
    "# Step 1: Create MetricFrame for baseline on test set\n",
    "mf_baseline_test = MetricFrame(\n",
    "    metrics=selection_rate,\n",
    "    y_true=test_df['label'],\n",
    "    y_pred=test_df['label'],  # baseline recommender uses label directly\n",
    "    sensitive_features=test_df['gender_grouped']\n",
    ")\n",
    "\n",
    "# Step 2: Extract both MetricFrames\n",
    "baseline_rates = mf_baseline_test.by_group\n",
    "fair_rates = mf_multi.by_group\n",
    "\n",
    "# Step 3: Plot side-by-side\n",
    "groups = baseline_rates.index\n",
    "x = np.arange(len(groups))\n",
    "width = 0.35\n",
    "\n",
    "plt.figure(figsize=(10, 6))\n",
    "plt.bar(x - width/2, baseline_rates[groups], width, label='Baseline (Test Set)', color='lightcoral')\n",
    "plt.bar(x + width/2, fair_rates[groups], width, label='Fair Model', color='mediumseagreen')\n",
    "\n",
    "plt.ylabel('Selection Rate')\n",
    "plt.title('🎧 Selection Rate by Gender Group (Baseline vs Fair Model on Test Set)')\n",
    "plt.xticks(ticks=x, labels=groups)\n",
    "plt.legend()\n",
    "plt.grid(axis='y', linestyle='--', alpha=0.6)\n",
    "\n",
    "# Add values on bars\n",
    "for i in range(len(groups)):\n",
    "    plt.text(x[i] - width/2, baseline_rates[i] + 0.0001, f'{baseline_rates[i]:.6f}', ha='center', fontsize=8)\n",
    "    plt.text(x[i] + width/2, fair_rates[i] + 0.0001, f'{fair_rates[i]:.6f}', ha='center', fontsize=8)\n",
    "\n",
    "plt.tight_layout()\n",
    "plt.show()"
   ]
  },
  {
   "cell_type": "markdown",
   "id": "5e0d3e77",
   "metadata": {},
   "source": [
    "## Selection Rate Comparison (Baseline vs Fair Model)\n",
    "\n",
    "| Gender Group | Baseline Selection Rate | Fair Model Selection Rate | Change |\n",
    "|--------------|--------------------------|----------------------------|--------|\n",
    "| Female       | 0.000150                 | 0.000150                   | ➖ No change |\n",
    "| Male         | 0.001244                 | 0.001128                   | 🔻 Slight decrease |\n",
    "| Nonbinary    | 0.007519                 | 0.007519                   | ➖ No change |\n",
    "| Other        | 0.000000                 | 0.000000                   | ⚠️ Still excluded |\n",
    "\n",
    "---\n",
    "\n",
    "### Interpretation:\n",
    "- **Nonbinary artists** dominate the recommendations in both models, with **no change** post-mitigation.\n",
    "- **Female artists** remained severely underrepresented, and the fairness-aware model did **not** improve this.\n",
    "- **Male artists** saw a **small reduction** in exposure.\n",
    "- The **“other” group (e.g., agender, trans)** is still entirely **excluded**, indicating poor support for underrepresented identities.\n",
    "\n",
    "---\n",
    "\n",
    "### Fairness Insight\n",
    "\n",
    "Despite applying **demographic parity mitigation**, the selection rates remained **almost unchanged** — suggesting that:\n",
    "- The model had **limited flexibility** to rebalance group exposure.\n",
    "- The extremely small representation of some gender groups in the data likely limits what the model can learn or adjust.\n",
    "\n",
    "---"
   ]
  },
  {
   "cell_type": "markdown",
   "id": "d79ba8f7",
   "metadata": {},
   "source": [
    "### Bias mitigation: Post-Processing using ThresholdOptimizer from Fairlearn"
   ]
  },
  {
   "cell_type": "markdown",
   "id": "ea35e815",
   "metadata": {},
   "source": [
    "## Why Merge Gender Groups for ThresholdOptimizer\n",
    "\n",
    "### The Problem:\n",
    "When using `ThresholdOptimizer` for post-processing bias mitigation, every **sensitive group** (like gender) must contain:\n",
    "- At least one **positive label** (`label=1`, meaning recommended), and  \n",
    "- At least one **negative label** (`label=0`, meaning not recommended).\n",
    "\n",
    "However, in our dataset:\n",
    "- The `\"other\"` gender group (e.g., agender, genderfluid, trans woman) had **only label=0** in the test set — no recommended tracks.\n",
    "- This made the group **\"degenerate\"**, and `ThresholdOptimizer` raised an error because it couldn't compute a threshold trade-off curve.\n",
    "\n",
    "---\n",
    "\n",
    "### The Fix: Merging Groups\n",
    "\n",
    "To avoid dropping the `\"other\"` group entirely, we **merged it with the `\"nonbinary\"` group**, creating a single `\"other\"` group that:\n",
    "- Contains enough examples from both classes (`1` and `0`),\n",
    "- Satisfies `ThresholdOptimizer`’s requirements,\n",
    "- Still preserves the **inclusivity of gender diversity** in fairness evaluation.\n",
    "\n",
    "---\n"
   ]
  },
  {
   "cell_type": "code",
   "execution_count": 26,
   "id": "d83e9c2e",
   "metadata": {},
   "outputs": [],
   "source": [
    "# Merge 'nonbinary' and all others into one 'other' group\n",
    "s_test_merged = s_test.replace({\n",
    "    'nonbinary': 'other',\n",
    "    'agender': 'other',\n",
    "    'genderfluid': 'other',\n",
    "    'trans woman': 'other',\n",
    "    'neutral sex': 'other'\n",
    "})"
   ]
  },
  {
   "cell_type": "code",
   "execution_count": 27,
   "id": "8df5c8da",
   "metadata": {},
   "outputs": [
    {
     "name": "stdout",
     "output_type": "stream",
     "text": [
      "🎯 Selection Rate by Gender Group (Post-Processing with 'other' merged):\n",
      "gender_grouped\n",
      "female    0.001047\n",
      "male      0.000933\n",
      "other     0.000000\n",
      "Name: selection_rate, dtype: float64\n",
      "\n",
      "📏 Selection Rate Range (Max - Min): 0.0010\n"
     ]
    }
   ],
   "source": [
    "# Fit ThresholdOptimizer using merged sensitive features\n",
    "postproc.fit(X_test, y_test, sensitive_features=s_test_merged)\n",
    "y_pred_post = postproc.predict(X_test, sensitive_features=s_test_merged)\n",
    "\n",
    "# Evaluate with merged group\n",
    "mf_post = MetricFrame(\n",
    "    metrics=selection_rate,\n",
    "    y_true=y_test,\n",
    "    y_pred=y_pred_post,\n",
    "    sensitive_features=s_test_merged\n",
    ")\n",
    "\n",
    "# Print results\n",
    "print(\"🎯 Selection Rate by Gender Group (Post-Processing with 'other' merged):\")\n",
    "print(mf_post.by_group)\n",
    "\n",
    "range_post = mf_post.by_group.max() - mf_post.by_group.min()\n",
    "print(f\"\\n📏 Selection Rate Range (Max - Min): {range_post:.4f}\")"
   ]
  },
  {
   "cell_type": "markdown",
   "id": "ed9f3e18",
   "metadata": {},
   "source": [
    "## Selection Rate by Gender Group (Post-Processing Mitigation)\n",
    "\n",
    "| Gender Group | Selection Rate | Interpretation |\n",
    "|--------------|----------------|----------------|\n",
    "| Female       | 0.001047 (0.10%) | 🟢 Slightly favored in this setup |\n",
    "| Male         | 0.000933 (0.09%) | 🟡 Slightly below female group |\n",
    "| Other        | 0.000000 (0.00%) | 🔴 No representation at all |\n",
    "\n",
    "---\n",
    "\n",
    "### Interpretation\n",
    "\n",
    "- **Fairness improved** slightly between male and female artists: selection rates are nearly equal.\n",
    "- **\"Other\" group received no recommendations** — despite merging, they still weren’t selected by the post-processed model.\n",
    "- **Selection rate range is 0.0010**, a small disparity numerically, but one group remains completely excluded.\n",
    "\n",
    "---\n",
    "\n",
    "### Key insights\n",
    "\n",
    "- **ThresholdOptimizer successfully reduced gender disparity** between male and female.\n",
    "- However, **data scarcity for the “other” group** still limits fairness — a sign that fairness mitigation can't overcome extreme underrepresentation alone.\n",
    "- Additional steps like **reweighting, oversampling, or enriched metadata** might be needed to support underrepresented gender identities.\n"
   ]
  },
  {
   "cell_type": "markdown",
   "id": "2e0438aa",
   "metadata": {},
   "source": [
    "## Bias Mitigation using Reweighting (Inprocessing)"
   ]
  },
  {
   "cell_type": "markdown",
   "id": "6f331744",
   "metadata": {},
   "source": [
    " ### Evaluate selection rate by gender group (test set)"
   ]
  },
  {
   "cell_type": "code",
   "execution_count": 35,
   "id": "43e08c55",
   "metadata": {},
   "outputs": [
    {
     "name": "stdout",
     "output_type": "stream",
     "text": [
      "Selection Rate by Gender Group (GridSearch Reweighted - Spotify):\n",
      "gender_grouped\n",
      "female       0.000150\n",
      "male         0.001128\n",
      "nonbinary    0.007519\n",
      "other        0.000000\n",
      "Name: selection_rate, dtype: float64\n",
      "\n",
      "Selection Rate Range (Max - Min): 0.0075\n"
     ]
    }
   ],
   "source": [
    "from fairlearn.reductions import GridSearch, DemographicParity\n",
    "from sklearn.linear_model import LogisticRegression\n",
    "from fairlearn.metrics import MetricFrame, selection_rate\n",
    "\n",
    "# Step 1: Prepare features, labels, and sensitive attribute\n",
    "X = full_tracks[['play_count']]            # feature\n",
    "y = full_tracks['label']                   # 1 if recommended (in Top-N), else 0\n",
    "sensitive = full_tracks['gender_grouped']  # grouped gender: 'male', 'female', 'nonbinary', 'other'\n",
    "\n",
    "# Step 2: Train-test split (already stratified earlier)\n",
    "df_all = X.copy()\n",
    "df_all['label'] = y\n",
    "df_all['gender_grouped'] = sensitive\n",
    "\n",
    "from sklearn.model_selection import train_test_split\n",
    "train_df, test_df = train_test_split(\n",
    "    df_all,\n",
    "    test_size=0.3,\n",
    "    stratify=df_all['gender_grouped'],\n",
    "    random_state=42\n",
    ")\n",
    "\n",
    "X_train = train_df[['play_count']]\n",
    "y_train = train_df['label']\n",
    "s_train = train_df['gender_grouped']\n",
    "\n",
    "X_test = test_df[['play_count']]\n",
    "y_test = test_df['label']\n",
    "s_test = test_df['gender_grouped']\n",
    "\n",
    "# Step 3: Clean sensitive attribute strings\n",
    "s_train_grouped = s_train.str.strip().str.lower()\n",
    "s_test_grouped = s_test.str.strip().str.lower()\n",
    "\n",
    "# Step 4: Define base estimator and initialize GridSearch\n",
    "base_estimator = LogisticRegression(solver='liblinear')\n",
    "\n",
    "grid_search = GridSearch(\n",
    "    estimator=base_estimator,\n",
    "    constraints=DemographicParity(),\n",
    "    grid_size=20\n",
    ")\n",
    "\n",
    "# Step 5: Fit the fairness-aware model\n",
    "grid_search.fit(X_train, y_train, sensitive_features=s_train_grouped)\n",
    "\n",
    "# Step 6: Choose the best model and predict\n",
    "best_predictor = grid_search.predictors_[0]\n",
    "y_pred_grid = best_predictor.predict(X_test)\n",
    "\n",
    "# Step 7: Evaluate fairness\n",
    "mf_grid = MetricFrame(\n",
    "    metrics=selection_rate,\n",
    "    y_true=y_test,\n",
    "    y_pred=y_pred_grid,\n",
    "    sensitive_features=s_test_grouped\n",
    ")\n",
    "\n",
    "# Step 8: Output results\n",
    "print(\"Selection Rate by Gender Group (GridSearch Reweighted - Spotify):\")\n",
    "print(mf_grid.by_group)\n",
    "\n",
    "range_grid = mf_grid.by_group.max() - mf_grid.by_group.min()\n",
    "print(f\"\\nSelection Rate Range (Max - Min): {range_grid:.4f}\")"
   ]
  },
  {
   "cell_type": "markdown",
   "id": "8bfcc842",
   "metadata": {},
   "source": [
    "## Selection Rate by Gender Group (Reweighted Model – Spotify)\n",
    "\n",
    "| Gender Group | Selection Rate | Interpretation |\n",
    "|--------------|----------------|----------------|\n",
    "| Female       | 0.000150 (0.02%) | 🔴 Severely underrepresented despite reweighting |\n",
    "| Male         | 0.001128 (0.11%) | 🟡 Still the most selected group overall |\n",
    "| Nonbinary    | 0.007519 (0.75%) | 🟢 Strongly overrepresented given catalog share |\n",
    "| Other        | 0.000000 (0.00%) | ⚠️ Completely excluded — no tracks selected |\n",
    "\n",
    "---\n",
    "\n",
    "### Interpretation:\n",
    "\n",
    "- **Nonbinary artists** continue to be **overrepresented**, likely boosted by reweighting but also affected by their popularity in the Top-N.\n",
    "- **Female artists remain under-selected**, showing reweighting did not sufficiently shift outcomes in their favor.\n",
    "- The **\"Other\" group** once again receives **no exposure**, likely due to very few training examples or low popularity.\n",
    "\n",
    "The selection rate disparity range is **0.0075**, which remains notable — indicating that **reweighting alone did not produce equal representation** across gender groups.\n",
    "\n",
    "---\n",
    "\n",
    "### Key findings:\n",
    "\n",
    "- Reweighting helps shift the model, but **group size and label imbalance** limit its effectiveness — especially for groups like **\"female\"** and **\"other\"**.\n",
    "- Applying post-processing (like `ThresholdOptimizer`) is **limited by the same data sparsity** and not yield meaningful improvement in this multiclass context."
   ]
  },
  {
   "cell_type": "markdown",
   "id": "796f9e14",
   "metadata": {},
   "source": [
    "## Overall Fairness Comparison – Spotify Dataset\n",
    "\n",
    "| Gender Group | Baseline Selection Rate | Fair Model (EG) | Post-Processing | Reweighted (GridSearch) | Interpretation |\n",
    "|--------------|--------------------------|------------------|------------------|---------------------------|----------------|\n",
    "| **Female**   | 0.000150                 | 0.000150         | 0.001047         | 0.000150                  | 🔴 Severely underrepresented in all models |\n",
    "| **Male**     | 0.001244                 | 0.001128         | 0.000933         | 0.001128                  | 🟡 Consistently favored; slightly reduced by fair models |\n",
    "| **Nonbinary**| 0.007519                 | 0.007519         | —                | 0.007519                  | 🟢 Strongly overrepresented; not addressed in post-processing |\n",
    "| **Other**    | 0.000000                 | 0.000000         | 0.000000         | 0.000000                  | ⚠️ Excluded in all models due to extreme data sparsity |\n",
    "\n",
    "---\n",
    "\n",
    "### Key Observations\n",
    "\n",
    "- **No model achieved balanced representation** across all gender groups.\n",
    "- The **Fair Model (ExponentiatedGradient)** made **no impact** on selection rates — likely due to limitations in how it handled the label imbalance.\n",
    "- **Post-processing (ThresholdOptimizer)** slightly improved fairness for `female`, but **excluded \"nonbinary\"** due to its binary-only constraint.\n",
    "- **GridSearch reweighting** retained high exposure for `nonbinary` and male artists, while still excluding `\"other\"` and failing to lift `\"female\"` meaningfully.\n",
    "\n",
    "---\n",
    "\n",
    "### Final Takeaway\n",
    "\n",
    "Despite multiple fairness interventions, the **Spotify popularity-based recommender** remains skewed — favoring `\"nonbinary\"` and `\"male\"` artists, and systematically excluding `\"other\"` and underrepresenting `\"female\"`.  \n",
    "This highlights the **limitations of fairness mitigation** in the presence of **extreme class imbalance** and suggests the need for more **targeted approaches**, such as group-aware re-ranking or data augmentation.\n"
   ]
  },
  {
   "cell_type": "markdown",
   "id": "34df3121",
   "metadata": {},
   "source": []
  }
 ],
 "metadata": {
  "kernelspec": {
   "display_name": "Python 3",
   "language": "python",
   "name": "python3"
  },
  "language_info": {
   "codemirror_mode": {
    "name": "ipython",
    "version": 3
   },
   "file_extension": ".py",
   "mimetype": "text/x-python",
   "name": "python",
   "nbconvert_exporter": "python",
   "pygments_lexer": "ipython3",
   "version": "3.11.9"
  }
 },
 "nbformat": 4,
 "nbformat_minor": 5
}
