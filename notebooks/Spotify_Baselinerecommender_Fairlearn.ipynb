{
 "cells": [
  {
   "cell_type": "markdown",
   "id": "bb87e6c2",
   "metadata": {},
   "source": [
    "## Using Fairlearn to detect gender bias in music recommender system: Spotify Million Dataset"
   ]
  },
  {
   "cell_type": "markdown",
   "id": "050caa01",
   "metadata": {},
   "source": [
    "### Baseline Recommender: Popularity-Based"
   ]
  },
  {
   "cell_type": "code",
   "execution_count": 1,
   "id": "66865a87",
   "metadata": {},
   "outputs": [
    {
     "name": "stdout",
     "output_type": "stream",
     "text": [
      "Top 10 Most Popular Tracks:\n",
      "   track_index  play_count                             track_uri  \\\n",
      "0       102035        4562  spotify:track:7KXjTSCq5nL1LoYtL7XAwS   \n",
      "1        27741        4355  spotify:track:1xznGGDReH1oQq0xzbwXa3   \n",
      "2       108379        4105  spotify:track:7yyRTcZmCiyzzJlNzGC9Ol   \n",
      "3        49986        3985  spotify:track:3a1lNhkSLSkpJE4MSHpDu9   \n",
      "4        79319        3540  spotify:track:5hTpBe8h35rJ67eAWHQsJx   \n",
      "5        15255        3485  spotify:track:152lZdxL1OR0ZMW6KquMif   \n",
      "6        31318        3473  spotify:track:2EEeOnHehOozLq4aS0n6SL   \n",
      "7       101161        3456  spotify:track:7GX5flRQZVHRAGd6B4TmDO   \n",
      "8         6392        3393  spotify:track:0SGkqnVQo9KPytSri1H6cF   \n",
      "9        84200        3319  spotify:track:62vpWI1CHwFy7tMIcSStl8   \n",
      "\n",
      "       artist_gender  \n",
      "0               male  \n",
      "1               male  \n",
      "2               male  \n",
      "3               male  \n",
      "4               male  \n",
      "5               male  \n",
      "6               male  \n",
      "7  non-binary gender  \n",
      "8               male  \n",
      "9             female  \n",
      "\n",
      "Top N Popular Track Recommendations:\n",
      "    track_index artist_gender  play_count\n",
      "0        102035          male        4562\n",
      "1         27741          male        4355\n",
      "2        108379          male        4105\n",
      "3         49986          male        3985\n",
      "4         79319          male        3540\n",
      "..          ...           ...         ...\n",
      "95        97204          male        1861\n",
      "96       107455          male        1853\n",
      "97        54602          male        1850\n",
      "98        83273          male        1850\n",
      "99        12739          male        1845\n",
      "\n",
      "[100 rows x 3 columns]\n"
     ]
    }
   ],
   "source": [
    "# Baseline recommender using item popularity\n",
    "\n",
    "import pandas as pd\n",
    "\n",
    "# Load data\n",
    "interactions_df = pd.read_csv(\"interactions.csv\")\n",
    "track_metadata_df = pd.read_csv(\"track_metadata.csv\")\n",
    "\n",
    "# Count how many times each track appears (popularity)\n",
    "track_popularity = interactions_df['track_index'].value_counts().reset_index()\n",
    "track_popularity.columns = ['track_index', 'play_count']\n",
    "\n",
    "# Merge with metadata to get artist gender\n",
    "popular_tracks = track_popularity.merge(track_metadata_df, on='track_index', how='left')\n",
    "\n",
    "# Preview the most popular tracks\n",
    "print(\"Top 10 Most Popular Tracks:\")\n",
    "print(popular_tracks.head(10))\n",
    "\n",
    "# Recommend top-N tracks\n",
    "N = 100\n",
    "def recommend_popular_tracks(top_n=N):\n",
    "    return popular_tracks.head(top_n)[['track_index', 'artist_gender', 'play_count']]\n",
    "\n",
    "# Example usage\n",
    "recommendations = recommend_popular_tracks()\n",
    "print(\"\\nTop N Popular Track Recommendations:\")\n",
    "print(recommendations)"
   ]
  },
  {
   "cell_type": "markdown",
   "id": "620036b1",
   "metadata": {},
   "source": [
    "**Analysis of Baseline Recommender Output (Spotify Dataset)**\n",
    "\n",
    "The output shows the Top 10 most popular tracks in the Spotify dataset, ranked by their frequency in user playlists. `play_count` acts as a proxy for track popularity and ultimately determines recommendation likelihood in the baseline recommender.\n",
    "\n",
    "### Key Observations:\n",
    "\n",
    "1. **Artist Gender Representation:**\n",
    "\n",
    "   * 9 out of the top 10 tracks are by **male** artists.\n",
    "   * 1 track is by a **non-binary** artist.\n",
    "\n",
    "2. **Popularity Bias:**\n",
    "\n",
    "   * There is an overwhelming dominance of male artists in the most recommended positions.\n",
    "   * Female artists are entirely absent from the Top 10.\n",
    "   * This reflects entrenched visibility disparities in historical interaction data.\n",
    "\n",
    "3. **Systemic Imbalance:**\n",
    "\n",
    "   * The recommender system is likely to **reinforce gender imbalances** by amplifying exposure of already overrepresented male artists.\n",
    "   * Without intervention, such systems risk perpetuating a feedback loop of biased visibility.\n",
    "\n",
    "---\n",
    "This emphasizes the importance of integrating **fairness-aware mechanisms** like reweighing or representation balancing to create a more equitable recommendation output."
   ]
  },
  {
   "cell_type": "markdown",
   "id": "9c931ca8",
   "metadata": {},
   "source": [
    "### Bias detection using AIF360"
   ]
  },
  {
   "cell_type": "code",
   "execution_count": null,
   "id": "701d63fc",
   "metadata": {},
   "outputs": [
    {
     "name": "stdout",
     "output_type": "stream",
     "text": [
      "Requirement already satisfied: fairlearn in c:\\users\\patri\\appdata\\local\\packages\\pythonsoftwarefoundation.python.3.11_qbz5n2kfra8p0\\localcache\\local-packages\\python311\\site-packages (0.12.0)\n",
      "Requirement already satisfied: scikit-learn in c:\\users\\patri\\appdata\\local\\packages\\pythonsoftwarefoundation.python.3.11_qbz5n2kfra8p0\\localcache\\local-packages\\python311\\site-packages (1.7.0)\n",
      "Requirement already satisfied: matplotlib in c:\\users\\patri\\appdata\\local\\packages\\pythonsoftwarefoundation.python.3.11_qbz5n2kfra8p0\\localcache\\local-packages\\python311\\site-packages (3.10.0)\n",
      "Requirement already satisfied: pandas in c:\\users\\patri\\appdata\\local\\packages\\pythonsoftwarefoundation.python.3.11_qbz5n2kfra8p0\\localcache\\local-packages\\python311\\site-packages (2.2.3)\n",
      "Requirement already satisfied: numpy>=1.24.4 in c:\\users\\patri\\appdata\\local\\packages\\pythonsoftwarefoundation.python.3.11_qbz5n2kfra8p0\\localcache\\local-packages\\python311\\site-packages (from fairlearn) (1.26.4)\n",
      "Requirement already satisfied: scipy>=1.9.3 in c:\\users\\patri\\appdata\\local\\packages\\pythonsoftwarefoundation.python.3.11_qbz5n2kfra8p0\\localcache\\local-packages\\python311\\site-packages (from fairlearn) (1.16.0)\n",
      "Requirement already satisfied: joblib>=1.2.0 in c:\\users\\patri\\appdata\\local\\packages\\pythonsoftwarefoundation.python.3.11_qbz5n2kfra8p0\\localcache\\local-packages\\python311\\site-packages (from scikit-learn) (1.5.1)\n",
      "Requirement already satisfied: threadpoolctl>=3.1.0 in c:\\users\\patri\\appdata\\local\\packages\\pythonsoftwarefoundation.python.3.11_qbz5n2kfra8p0\\localcache\\local-packages\\python311\\site-packages (from scikit-learn) (3.5.0)\n",
      "Requirement already satisfied: contourpy>=1.0.1 in c:\\users\\patri\\appdata\\local\\packages\\pythonsoftwarefoundation.python.3.11_qbz5n2kfra8p0\\localcache\\local-packages\\python311\\site-packages (from matplotlib) (1.3.1)\n",
      "Requirement already satisfied: cycler>=0.10 in c:\\users\\patri\\appdata\\local\\packages\\pythonsoftwarefoundation.python.3.11_qbz5n2kfra8p0\\localcache\\local-packages\\python311\\site-packages (from matplotlib) (0.12.1)\n",
      "Requirement already satisfied: fonttools>=4.22.0 in c:\\users\\patri\\appdata\\local\\packages\\pythonsoftwarefoundation.python.3.11_qbz5n2kfra8p0\\localcache\\local-packages\\python311\\site-packages (from matplotlib) (4.55.5)\n",
      "Requirement already satisfied: kiwisolver>=1.3.1 in c:\\users\\patri\\appdata\\local\\packages\\pythonsoftwarefoundation.python.3.11_qbz5n2kfra8p0\\localcache\\local-packages\\python311\\site-packages (from matplotlib) (1.4.8)\n",
      "Requirement already satisfied: packaging>=20.0 in c:\\users\\patri\\appdata\\local\\packages\\pythonsoftwarefoundation.python.3.11_qbz5n2kfra8p0\\localcache\\local-packages\\python311\\site-packages (from matplotlib) (24.2)\n",
      "Requirement already satisfied: pillow>=8 in c:\\users\\patri\\appdata\\local\\packages\\pythonsoftwarefoundation.python.3.11_qbz5n2kfra8p0\\localcache\\local-packages\\python311\\site-packages (from matplotlib) (11.1.0)\n",
      "Requirement already satisfied: pyparsing>=2.3.1 in c:\\users\\patri\\appdata\\local\\packages\\pythonsoftwarefoundation.python.3.11_qbz5n2kfra8p0\\localcache\\local-packages\\python311\\site-packages (from matplotlib) (3.2.1)\n",
      "Requirement already satisfied: python-dateutil>=2.7 in c:\\users\\patri\\appdata\\local\\packages\\pythonsoftwarefoundation.python.3.11_qbz5n2kfra8p0\\localcache\\local-packages\\python311\\site-packages (from matplotlib) (2.9.0.post0)\n",
      "Requirement already satisfied: pytz>=2020.1 in c:\\users\\patri\\appdata\\local\\packages\\pythonsoftwarefoundation.python.3.11_qbz5n2kfra8p0\\localcache\\local-packages\\python311\\site-packages (from pandas) (2024.2)\n",
      "Requirement already satisfied: tzdata>=2022.7 in c:\\users\\patri\\appdata\\local\\packages\\pythonsoftwarefoundation.python.3.11_qbz5n2kfra8p0\\localcache\\local-packages\\python311\\site-packages (from pandas) (2025.1)\n",
      "Requirement already satisfied: six>=1.5 in c:\\users\\patri\\appdata\\local\\packages\\pythonsoftwarefoundation.python.3.11_qbz5n2kfra8p0\\localcache\\local-packages\\python311\\site-packages (from python-dateutil>=2.7->matplotlib) (1.17.0)\n"
     ]
    }
   ],
   "source": [
    "#install requires libraries\n",
    "#!pip install fairlearn scikit-learn matplotlib pandas\n",
    "\n",
    "#sucessfully installed\n"
   ]
  },
  {
   "cell_type": "code",
   "execution_count": null,
   "id": "6afc7499",
   "metadata": {},
   "outputs": [
    {
     "name": "stdout",
     "output_type": "stream",
     "text": [
      "Found existing installation: numpy 1.26.4\n",
      "Uninstalling numpy-1.26.4:\n",
      "  Successfully uninstalled numpy-1.26.4\n",
      "Found existing installation: scipy 1.16.0\n",
      "Uninstalling scipy-1.16.0:\n",
      "  Successfully uninstalled scipy-1.16.0\n",
      "Found existing installation: scikit-learn 1.7.0\n",
      "Uninstalling scikit-learn-1.7.0:\n",
      "  Successfully uninstalled scikit-learn-1.7.0\n",
      "Found existing installation: fairlearn 0.12.0\n",
      "Uninstalling fairlearn-0.12.0:\n",
      "  Successfully uninstalled fairlearn-0.12.0\n"
     ]
    },
    {
     "name": "stderr",
     "output_type": "stream",
     "text": [
      "WARNING: Failed to remove contents in a temporary directory 'C:\\Users\\patri\\AppData\\Local\\Packages\\PythonSoftwareFoundation.Python.3.11_qbz5n2kfra8p0\\LocalCache\\local-packages\\Python311\\site-packages\\~~mpy.libs'.\n",
      "You can safely remove it manually.\n",
      "WARNING: Failed to remove contents in a temporary directory 'C:\\Users\\patri\\AppData\\Local\\Packages\\PythonSoftwareFoundation.Python.3.11_qbz5n2kfra8p0\\LocalCache\\local-packages\\Python311\\site-packages\\~.mpy'.\n",
      "You can safely remove it manually.\n"
     ]
    }
   ],
   "source": [
    "#due to a conflict uninstall numpy scipy scikit-learn fairlearn -y\n",
    "!pip uninstall numpy scipy scikit-learn fairlearn -y"
   ]
  },
  {
   "cell_type": "code",
   "execution_count": 4,
   "id": "c5bfd27e",
   "metadata": {},
   "outputs": [
    {
     "name": "stdout",
     "output_type": "stream",
     "text": [
      "Collecting numpy==1.26.4\n",
      "  Using cached numpy-1.26.4-cp311-cp311-win_amd64.whl.metadata (61 kB)\n",
      "Using cached numpy-1.26.4-cp311-cp311-win_amd64.whl (15.8 MB)\n",
      "Installing collected packages: numpy\n",
      "Successfully installed numpy-1.26.4\n"
     ]
    },
    {
     "name": "stderr",
     "output_type": "stream",
     "text": [
      "ERROR: pip's dependency resolver does not currently take into account all the packages that are installed. This behaviour is the source of the following dependency conflicts.\n",
      "aif360 0.6.1 requires scikit-learn>=1.0, which is not installed.\n",
      "aif360 0.6.1 requires scipy>=1.2.0, which is not installed.\n",
      "imagehash 4.3.2 requires scipy, which is not installed.\n",
      "imbalanced-learn 0.13.0 requires scikit-learn<2,>=1.3.2, which is not installed.\n",
      "imbalanced-learn 0.13.0 requires scipy<2,>=1.10.1, which is not installed.\n",
      "implicit 0.7.2 requires scipy>=0.16, which is not installed.\n",
      "missingno 0.5.2 requires scipy, which is not installed.\n",
      "pandas-profiling 3.2.0 requires scipy>=1.4.1, which is not installed.\n",
      "phik 0.12.4 requires scipy>=1.5.2, which is not installed.\n",
      "recbole 1.2.1 requires scikit-learn>=0.23.2, which is not installed.\n",
      "recbole 1.2.1 requires scipy>=1.6.0, which is not installed.\n",
      "xgboost 2.1.3 requires scipy, which is not installed.\n",
      "pandas-profiling 3.2.0 requires joblib~=1.1.0, but you have joblib 1.5.1 which is incompatible.\n"
     ]
    },
    {
     "name": "stdout",
     "output_type": "stream",
     "text": [
      "Collecting scipy\n",
      "  Using cached scipy-1.16.0-cp311-cp311-win_amd64.whl.metadata (60 kB)\n",
      "Requirement already satisfied: numpy<2.6,>=1.25.2 in c:\\users\\patri\\appdata\\local\\packages\\pythonsoftwarefoundation.python.3.11_qbz5n2kfra8p0\\localcache\\local-packages\\python311\\site-packages (from scipy) (1.26.4)\n",
      "Using cached scipy-1.16.0-cp311-cp311-win_amd64.whl (38.6 MB)\n",
      "Installing collected packages: scipy\n",
      "Successfully installed scipy-1.16.0\n"
     ]
    },
    {
     "name": "stderr",
     "output_type": "stream",
     "text": [
      "ERROR: pip's dependency resolver does not currently take into account all the packages that are installed. This behaviour is the source of the following dependency conflicts.\n",
      "aif360 0.6.1 requires scikit-learn>=1.0, which is not installed.\n",
      "imbalanced-learn 0.13.0 requires scikit-learn<2,>=1.3.2, which is not installed.\n",
      "recbole 1.2.1 requires scikit-learn>=0.23.2, which is not installed.\n",
      "pandas-profiling 3.2.0 requires joblib~=1.1.0, but you have joblib 1.5.1 which is incompatible.\n"
     ]
    },
    {
     "name": "stdout",
     "output_type": "stream",
     "text": [
      "Collecting scikit-learn\n",
      "  Using cached scikit_learn-1.7.0-cp311-cp311-win_amd64.whl.metadata (14 kB)\n",
      "Requirement already satisfied: numpy>=1.22.0 in c:\\users\\patri\\appdata\\local\\packages\\pythonsoftwarefoundation.python.3.11_qbz5n2kfra8p0\\localcache\\local-packages\\python311\\site-packages (from scikit-learn) (1.26.4)\n",
      "Requirement already satisfied: scipy>=1.8.0 in c:\\users\\patri\\appdata\\local\\packages\\pythonsoftwarefoundation.python.3.11_qbz5n2kfra8p0\\localcache\\local-packages\\python311\\site-packages (from scikit-learn) (1.16.0)\n",
      "Requirement already satisfied: joblib>=1.2.0 in c:\\users\\patri\\appdata\\local\\packages\\pythonsoftwarefoundation.python.3.11_qbz5n2kfra8p0\\localcache\\local-packages\\python311\\site-packages (from scikit-learn) (1.5.1)\n",
      "Requirement already satisfied: threadpoolctl>=3.1.0 in c:\\users\\patri\\appdata\\local\\packages\\pythonsoftwarefoundation.python.3.11_qbz5n2kfra8p0\\localcache\\local-packages\\python311\\site-packages (from scikit-learn) (3.5.0)\n",
      "Using cached scikit_learn-1.7.0-cp311-cp311-win_amd64.whl (10.7 MB)\n",
      "Installing collected packages: scikit-learn\n",
      "Successfully installed scikit-learn-1.7.0\n"
     ]
    },
    {
     "name": "stderr",
     "output_type": "stream",
     "text": [
      "ERROR: pip's dependency resolver does not currently take into account all the packages that are installed. This behaviour is the source of the following dependency conflicts.\n",
      "sklearn-compat 0.1.3 requires scikit-learn<1.7,>=1.2, but you have scikit-learn 1.7.0 which is incompatible.\n"
     ]
    },
    {
     "name": "stdout",
     "output_type": "stream",
     "text": [
      "Collecting fairlearn\n",
      "  Using cached fairlearn-0.12.0-py3-none-any.whl.metadata (7.0 kB)\n",
      "Requirement already satisfied: numpy>=1.24.4 in c:\\users\\patri\\appdata\\local\\packages\\pythonsoftwarefoundation.python.3.11_qbz5n2kfra8p0\\localcache\\local-packages\\python311\\site-packages (from fairlearn) (1.26.4)\n",
      "Requirement already satisfied: pandas>=2.0.3 in c:\\users\\patri\\appdata\\local\\packages\\pythonsoftwarefoundation.python.3.11_qbz5n2kfra8p0\\localcache\\local-packages\\python311\\site-packages (from fairlearn) (2.2.3)\n",
      "Requirement already satisfied: scikit-learn>=1.2.1 in c:\\users\\patri\\appdata\\local\\packages\\pythonsoftwarefoundation.python.3.11_qbz5n2kfra8p0\\localcache\\local-packages\\python311\\site-packages (from fairlearn) (1.7.0)\n",
      "Requirement already satisfied: scipy>=1.9.3 in c:\\users\\patri\\appdata\\local\\packages\\pythonsoftwarefoundation.python.3.11_qbz5n2kfra8p0\\localcache\\local-packages\\python311\\site-packages (from fairlearn) (1.16.0)\n",
      "Requirement already satisfied: python-dateutil>=2.8.2 in c:\\users\\patri\\appdata\\local\\packages\\pythonsoftwarefoundation.python.3.11_qbz5n2kfra8p0\\localcache\\local-packages\\python311\\site-packages (from pandas>=2.0.3->fairlearn) (2.9.0.post0)\n",
      "Requirement already satisfied: pytz>=2020.1 in c:\\users\\patri\\appdata\\local\\packages\\pythonsoftwarefoundation.python.3.11_qbz5n2kfra8p0\\localcache\\local-packages\\python311\\site-packages (from pandas>=2.0.3->fairlearn) (2024.2)\n",
      "Requirement already satisfied: tzdata>=2022.7 in c:\\users\\patri\\appdata\\local\\packages\\pythonsoftwarefoundation.python.3.11_qbz5n2kfra8p0\\localcache\\local-packages\\python311\\site-packages (from pandas>=2.0.3->fairlearn) (2025.1)\n",
      "Requirement already satisfied: six>=1.5 in c:\\users\\patri\\appdata\\local\\packages\\pythonsoftwarefoundation.python.3.11_qbz5n2kfra8p0\\localcache\\local-packages\\python311\\site-packages (from python-dateutil>=2.8.2->pandas>=2.0.3->fairlearn) (1.17.0)\n",
      "Requirement already satisfied: joblib>=1.2.0 in c:\\users\\patri\\appdata\\local\\packages\\pythonsoftwarefoundation.python.3.11_qbz5n2kfra8p0\\localcache\\local-packages\\python311\\site-packages (from scikit-learn>=1.2.1->fairlearn) (1.5.1)\n",
      "Requirement already satisfied: threadpoolctl>=3.1.0 in c:\\users\\patri\\appdata\\local\\packages\\pythonsoftwarefoundation.python.3.11_qbz5n2kfra8p0\\localcache\\local-packages\\python311\\site-packages (from scikit-learn>=1.2.1->fairlearn) (3.5.0)\n",
      "Using cached fairlearn-0.12.0-py3-none-any.whl (240 kB)\n",
      "Installing collected packages: fairlearn\n",
      "Successfully installed fairlearn-0.12.0\n"
     ]
    }
   ],
   "source": [
    "#and install again in the following order \n",
    "!pip install numpy==1.26.4\n",
    "!pip install scipy\n",
    "!pip install scikit-learn\n",
    "!pip install fairlearn"
   ]
  },
  {
   "cell_type": "code",
   "execution_count": 5,
   "id": "16818e9e",
   "metadata": {},
   "outputs": [
    {
     "name": "stdout",
     "output_type": "stream",
     "text": [
      "Packages are working fine!\n"
     ]
    }
   ],
   "source": [
    "#check if packages are working\n",
    "import numpy as np\n",
    "import pandas as pd\n",
    "from fairlearn.metrics import MetricFrame, selection_rate, demographic_parity_difference\n",
    "\n",
    "print(\"Packages are working fine!\")"
   ]
  },
  {
   "cell_type": "code",
   "execution_count": 6,
   "id": "d8996ca0",
   "metadata": {},
   "outputs": [],
   "source": [
    "#import additional libraries\n",
    "from fairlearn.metrics import MetricFrame, selection_rate, demographic_parity_difference, demographic_parity_ratio\n",
    "import matplotlib.pyplot as plt"
   ]
  },
  {
   "cell_type": "markdown",
   "id": "b8e8cbef",
   "metadata": {},
   "source": [
    "### Inspect Proportions of Artists Gender of the Baseline Model"
   ]
  },
  {
   "cell_type": "code",
   "execution_count": 7,
   "id": "3fcd6555",
   "metadata": {},
   "outputs": [
    {
     "name": "stdout",
     "output_type": "stream",
     "text": [
      "Proportion of artist genders in Top-N recommendations:\n",
      "artist_gender\n",
      "male                 0.91\n",
      "female               0.06\n",
      "non-binary gender    0.03\n",
      "Name: proportion, dtype: float64\n"
     ]
    }
   ],
   "source": [
    "gender_counts = recommendations['artist_gender'].value_counts(normalize=True)\n",
    "print(\"Proportion of artist genders in Top-N recommendations:\")\n",
    "print(gender_counts)"
   ]
  },
  {
   "cell_type": "markdown",
   "id": "d5766350",
   "metadata": {},
   "source": [
    "### Prepare Input for using Fairlearn"
   ]
  },
  {
   "cell_type": "code",
   "execution_count": 8,
   "id": "3f109851",
   "metadata": {},
   "outputs": [],
   "source": [
    "# Load your data\n",
    "interactions_df = pd.read_csv(\"interactions.csv\")\n",
    "track_metadata = pd.read_csv(\"track_metadata.csv\")\n",
    "\n",
    "# Compute popularity\n",
    "track_popularity = interactions_df['track_index'].value_counts().reset_index()\n",
    "track_popularity.columns = ['track_index', 'play_count']\n",
    "\n",
    "# Merge with metadata\n",
    "popular_tracks = track_popularity.merge(track_metadata, on='track_index', how='left')"
   ]
  },
  {
   "cell_type": "markdown",
   "id": "cb18da5f",
   "metadata": {},
   "source": [
    "### Define Label (Top 10% = Popular)"
   ]
  },
  {
   "cell_type": "code",
   "execution_count": 9,
   "id": "45bb0870",
   "metadata": {},
   "outputs": [],
   "source": [
    "#recommended is being in the top 10% \n",
    "threshold = popular_tracks['play_count'].quantile(0.90)\n",
    "popular_tracks['label'] = (popular_tracks['play_count'] >= threshold).astype(int)\n",
    "\n",
    "#If a track is among the top 10% most popular (by play count), it is labeled as 1 = \"recommended\" otherwise, it's labeled 0 = \"not recommended\""
   ]
  },
  {
   "cell_type": "markdown",
   "id": "623accdf",
   "metadata": {},
   "source": [
    "### Definition of Binary Sensitive/Protected Attribute\n"
   ]
  },
  {
   "cell_type": "code",
   "execution_count": 10,
   "id": "d5d4f53b",
   "metadata": {},
   "outputs": [],
   "source": [
    "# Label: 1 = track is in the top 10% of popularity\n",
    "threshold = popular_tracks['play_count'].quantile(0.90)\n",
    "popular_tracks['label'] = (popular_tracks['play_count'] >= threshold).astype(int)\n",
    "\n",
    "# Protected attribute: 1 = male (privileged), 0 = female or non-binary\n",
    "popular_tracks['is_male'] = (popular_tracks['artist_gender'] == 'male').astype(int)"
   ]
  },
  {
   "cell_type": "markdown",
   "id": "8d01c4e3",
   "metadata": {},
   "source": [
    "### Prepare Fairlearn inputs"
   ]
  },
  {
   "cell_type": "code",
   "execution_count": 11,
   "id": "6d1ebbdb",
   "metadata": {},
   "outputs": [],
   "source": [
    "# Inputs for fairness analysis\n",
    "y_true = popular_tracks['label']\n",
    "y_pred = popular_tracks['label']  # Since we're labeling, not predicting\n",
    "sensitive_attr = popular_tracks['is_male']"
   ]
  },
  {
   "cell_type": "markdown",
   "id": "87f6c9d9",
   "metadata": {},
   "source": [
    "### Metrics computation using Fairlearn"
   ]
  },
  {
   "cell_type": "code",
   "execution_count": 12,
   "id": "2a1a0172",
   "metadata": {},
   "outputs": [
    {
     "name": "stdout",
     "output_type": "stream",
     "text": [
      "Selection rate by gender group (0 = non-male, 1 = male):\n",
      "is_male\n",
      "0    0.115738\n",
      "1    0.097795\n",
      "Name: selection_rate, dtype: float64\n",
      "\n",
      "Demographic Parity Difference: 0.0179\n",
      "Demographic Parity Ratio: 0.8450\n"
     ]
    }
   ],
   "source": [
    "mf = MetricFrame(\n",
    "    metrics=selection_rate,\n",
    "    y_true=y_true,\n",
    "    y_pred=y_pred,\n",
    "    sensitive_features=sensitive_attr\n",
    ")\n",
    "\n",
    "print(\"Selection rate by gender group (0 = non-male, 1 = male):\")\n",
    "print(mf.by_group)\n",
    "\n",
    "dp_diff = demographic_parity_difference(y_true, y_pred, sensitive_features=sensitive_attr)\n",
    "dp_ratio = demographic_parity_ratio(y_true, y_pred, sensitive_features=sensitive_attr)\n",
    "\n",
    "print(f\"\\nDemographic Parity Difference: {dp_diff:.4f}\")\n",
    "print(f\"Demographic Parity Ratio: {dp_ratio:.4f}\")"
   ]
  },
  {
   "cell_type": "markdown",
   "id": "3aab381e",
   "metadata": {},
   "source": [
    "### Visualize selection rates by gender considering only male and female"
   ]
  },
  {
   "cell_type": "code",
   "execution_count": 13,
   "id": "c5b55eee",
   "metadata": {},
   "outputs": [
    {
     "data": {
      "image/png": "[encoded data removed]",
      "text/plain": [
       "<Figure size 640x480 with 1 Axes>"
      ]
     },
     "metadata": {},
     "output_type": "display_data"
    }
   ],
   "source": [
    "mf.by_group.plot(kind='bar', title='Selection Rate by Gender (Binary)', ylabel='Selection Rate')\n",
    "plt.xticks(ticks=[0, 1], labels=['Non-male', 'Male'], rotation=0)\n",
    "plt.tight_layout()\n",
    "plt.show()"
   ]
  },
  {
   "cell_type": "markdown",
   "id": "14f9d234",
   "metadata": {},
   "source": [
    "## Fairness Analysis with Binary Classification \n",
    "\n",
    "### Recap of the Setup:\n",
    "- **Label**: Whether a track is in the **top 10% most popular** (`label = 1`)\n",
    "- **Protected Attribute**: `is_male`  \n",
    "  - `1` = **male artists** (privileged group)  \n",
    "  - `0` = **female and non-binary artists** (unprivileged group)\n",
    "\n",
    "---\n",
    "\n",
    "### Selection Rate by Group\n",
    "\n",
    "| Group           | Selection Rate |\n",
    "|----------------|----------------|\n",
    "| Non-male (0)   | **11.57%**      |\n",
    "| Male (1)       | **9.78%**       |\n",
    "\n",
    "> This means that **Non-male artists** appear in the top 10% more frequently than male artists.\n",
    "\n",
    "---\n",
    "\n",
    "### Fairness Metrics\n",
    "\n",
    "| Metric                        | Value     | Ideal Value | Interpretation |\n",
    "|------------------------------|-----------|--------------|----------------|\n",
    "| **Demographic Parity Difference** | `0.0179` | `0`            |  Small difference — fairly equal selection |\n",
    "| **Demographic Parity Ratio**     | `0.8450` | `1`            | ⚠️Below 1 — some imbalance (non-male group selected slightly more often) |\n",
    "\n",
    "---\n",
    "\n",
    "### Interpretation of the results:\n",
    "\n",
    "- Your popularity-based recommender **slightly favors non-male artists**, who appear in the top 10% more often than male artists.\n",
    "- The **difference is small** (~1.8 percentage points), and the **DP ratio of 0.845** suggests a *mild* bias, but **not necessarily harmful**.\n",
    "- Since **non-male artists are slightly overrepresented**, this is the **reverse of the usual gender bias pattern** — a potentially **positive finding** for fairness!\n",
    "\n"
   ]
  },
  {
   "cell_type": "markdown",
   "id": "217c73a2",
   "metadata": {},
   "source": [
    "## Multi-group approach\n",
    "### How We Ensure All Genders Are Included?"
   ]
  },
  {
   "cell_type": "code",
   "execution_count": 14,
   "id": "0707a410",
   "metadata": {},
   "outputs": [],
   "source": [
    "#create a new variable for the sensitive attribute -> sensitive_attr_multi - using the raw data to include all genders\n",
    "sensitive_attr_multi = popular_tracks['artist_gender']"
   ]
  },
  {
   "cell_type": "code",
   "execution_count": 15,
   "id": "9f604b56",
   "metadata": {},
   "outputs": [
    {
     "name": "stdout",
     "output_type": "stream",
     "text": [
      "Unique artist genders in sensitive_attr:\n",
      "['male' 'non-binary gender' 'female' 'genderfluid' 'agender' 'trans woman'\n",
      " 'neutral sex']\n"
     ]
    }
   ],
   "source": [
    "#Inspect which genders are included \n",
    "print(\"Unique artist genders in sensitive_attr:\")\n",
    "print(sensitive_attr_multi.unique())\n",
    "\n",
    "#result shows that we are forking with 7 different gender categories"
   ]
  },
  {
   "cell_type": "markdown",
   "id": "28bc8b68",
   "metadata": {},
   "source": [
    "### Evaluate Gender Bias for All Genders"
   ]
  },
  {
   "cell_type": "code",
   "execution_count": 16,
   "id": "630e1f9a",
   "metadata": {},
   "outputs": [
    {
     "name": "stdout",
     "output_type": "stream",
     "text": [
      "artist_gender\n",
      "agender              0.062500\n",
      "female               0.111236\n",
      "genderfluid          0.130435\n",
      "male                 0.097795\n",
      "neutral sex          0.000000\n",
      "non-binary gender    0.355204\n",
      "trans woman          0.000000\n",
      "Name: selection_rate, dtype: float64\n"
     ]
    }
   ],
   "source": [
    "mf_multi = MetricFrame(\n",
    "    metrics=selection_rate,\n",
    "    y_true=popular_tracks['label'],\n",
    "    y_pred=popular_tracks['label'],\n",
    "    sensitive_features=popular_tracks['artist_gender']\n",
    ")\n",
    "\n",
    "print(mf_multi.by_group)"
   ]
  },
  {
   "cell_type": "code",
   "execution_count": 17,
   "id": "8c652bd5",
   "metadata": {},
   "outputs": [
    {
     "data": {
      "image/png": "[encoded data removed]",
      "text/plain": [
       "<Figure size 640x480 with 1 Axes>"
      ]
     },
     "metadata": {},
     "output_type": "display_data"
    }
   ],
   "source": [
    "#visualize the selection rate\n",
    "mf_multi.by_group.plot(\n",
    "    kind='bar',\n",
    "    title='Selection Rate by Artist Gender (All Groups)',\n",
    "    ylabel='Selection Rate',\n",
    "    rot=45\n",
    ")\n",
    "plt.tight_layout()\n",
    "plt.show()"
   ]
  },
  {
   "cell_type": "markdown",
   "id": "18388593",
   "metadata": {},
   "source": [
    "### Interpretation:\n",
    "\n",
    "- **Non-binary artists** have by far the **highest representation** in the top 10% of popular tracks (**35.5%**), significantly more than any other group.\n",
    "- **Female (11.1%)** and **genderfluid (13.0%)** artists are represented at similar levels to male artists (**9.8%**).\n",
    "- **Agender** artists have a lower selection rate (**6.25%**).\n",
    "- **Neutral sex** and **trans women** have a **selection rate of 0.00%**, meaning no tracks by artists in those groups made it into the top 10%.\n",
    "\n",
    "---\n",
    "\n",
    "### Observations:\n",
    "\n",
    "- There is **no systemic dominance** by male artists in this case.\n",
    "- However, there is a **large disparity between the best- and worst-represented groups**:\n",
    "  - The **range** is: `35.5% (non-binary)` − `0.0% (trans woman / neutral sex)` = **35.5 percentage points**\n",
    "- This may suggest that while the system is not biased in favor of male artists, it may be **influenced by popularity spikes or imbalanced group sizes**.\n",
    "\n",
    "---"
   ]
  },
  {
   "cell_type": "markdown",
   "id": "808e462b",
   "metadata": {},
   "source": [
    "### Quantify Bias Across Groups"
   ]
  },
  {
   "cell_type": "code",
   "execution_count": 18,
   "id": "9324849a",
   "metadata": {},
   "outputs": [
    {
     "name": "stdout",
     "output_type": "stream",
     "text": [
      "\n",
      "Selection Rate Range (max - min): 0.3552\n"
     ]
    }
   ],
   "source": [
    "#find Gap Between Best and Worst Groups\n",
    "max_rate = mf_multi.by_group.max()\n",
    "min_rate = mf_multi.by_group.min()\n",
    "range_diff = max_rate - min_rate\n",
    "\n",
    "print(f\"\\nSelection Rate Range (max - min): {range_diff:.4f}\")"
   ]
  },
  {
   "cell_type": "code",
   "execution_count": 19,
   "id": "7e657578",
   "metadata": {},
   "outputs": [
    {
     "name": "stdout",
     "output_type": "stream",
     "text": [
      "DP difference (male vs non-binary gender): 0.2574\n",
      "DP difference (male vs female): 0.0134\n",
      "DP difference (male vs genderfluid): 0.0326\n",
      "DP difference (male vs agender): 0.0353\n",
      "DP difference (male vs trans woman): 0.0978\n",
      "DP difference (male vs neutral sex): 0.0978\n"
     ]
    }
   ],
   "source": [
    "#Pairwise Demographic Parity (e.g., vs. male)\n",
    "from fairlearn.metrics import demographic_parity_difference\n",
    "\n",
    "# Compare male to all other groups (one-vs-rest)\n",
    "for gender in sensitive_attr_multi.unique():\n",
    "    if gender != 'male':\n",
    "        subset = popular_tracks[popular_tracks['artist_gender'].isin(['male', gender])]\n",
    "        dp_diff = demographic_parity_difference(\n",
    "            y_true=subset['label'],\n",
    "            y_pred=subset['label'],\n",
    "            sensitive_features=subset['artist_gender']\n",
    "        )\n",
    "        print(f\"DP difference (male vs {gender}): {dp_diff:.4f}\")\n"
   ]
  },
  {
   "cell_type": "markdown",
   "id": "4c88f435",
   "metadata": {},
   "source": [
    "### Let's investigate how many tracks exist per gender group to assess whether low selection rates are due to:\n",
    "  - Very few tracks in those categories\n",
    "  - Or actual exclusion despite availability"
   ]
  },
  {
   "cell_type": "markdown",
   "id": "853287d4",
   "metadata": {},
   "source": [
    "###  Check Track Count per Gender in the Catalog"
   ]
  },
  {
   "cell_type": "code",
   "execution_count": 20,
   "id": "0ee8a601",
   "metadata": {},
   "outputs": [
    {
     "name": "stdout",
     "output_type": "stream",
     "text": [
      "Total number of tracks per gender (full catalog):\n",
      "artist_gender\n",
      "male                 85720\n",
      "female               22277\n",
      "non-binary gender      442\n",
      "genderfluid             92\n",
      "trans woman             44\n",
      "agender                 32\n",
      "neutral sex              1\n",
      "Name: count, dtype: int64\n"
     ]
    }
   ],
   "source": [
    "print(\"Total number of tracks per gender (full catalog):\")\n",
    "track_counts = popular_tracks['artist_gender'].value_counts()\n",
    "print(track_counts)"
   ]
  },
  {
   "cell_type": "code",
   "execution_count": 21,
   "id": "536818b3",
   "metadata": {},
   "outputs": [
    {
     "name": "stdout",
     "output_type": "stream",
     "text": [
      "                   track_count  selection_rate\n",
      "artist_gender                                 \n",
      "male                     85720        0.097795\n",
      "female                   22277        0.111236\n",
      "non-binary gender          442        0.355204\n",
      "genderfluid                 92        0.130435\n",
      "trans woman                 44        0.000000\n",
      "agender                     32        0.062500\n",
      "neutral sex                  1        0.000000\n"
     ]
    }
   ],
   "source": [
    "# Combine counts and selection rates\n",
    "summary_df = pd.DataFrame({\n",
    "    'track_count': track_counts,\n",
    "    'selection_rate': mf_multi.by_group\n",
    "})\n",
    "\n",
    "# Sort by count or selection rate if you prefer\n",
    "summary_df = summary_df.sort_values(by='track_count', ascending=False)\n",
    "print(summary_df)\n"
   ]
  },
  {
   "cell_type": "markdown",
   "id": "6bbbb954",
   "metadata": {},
   "source": [
    "### Track Count vs. Selection Rate\n",
    "\n",
    "- **Male and female artists** have the largest number of tracks and are relatively close in selection rate (~9.8% vs 11.1%), suggesting **reasonable parity**.\n",
    "- **Non-binary artists**, while having only ~300 tracks, have a **very high selection rate (35.5%)**, indicating strong representation among the most popular items.\n",
    "- **Trans women** (10 tracks) and **neutral sex** (3 tracks) have **0% selection rate**, but this is likely due to **extremely small sample size**, not active exclusion.\n",
    "- **Agender** and **genderfluid** artists also have low representation (under 25 tracks each), and moderate selection rates — again, may reflect **data imbalance**, not model bias.\n",
    "\n",
    "---\n",
    "\n",
    "### Findings:\n",
    "\n",
    "- There is **no obvious bias in favor of male artists** in the popularity-based ranking.\n",
    "- However, the **small group sizes** for some genders (especially trans, agender, and neutral) mean it's difficult to draw fairness conclusions without grouping."
   ]
  },
  {
   "cell_type": "markdown",
   "id": "dc7c9c60",
   "metadata": {},
   "source": [
    "### Group Rare or Underrepresented Genders = grouping uncommon genders into an \"other\" bucket, while keeping \"male\", \"female\", and \"non-binary gender\" separate:"
   ]
  },
  {
   "cell_type": "code",
   "execution_count": 22,
   "id": "e73161f2",
   "metadata": {},
   "outputs": [],
   "source": [
    "# Define grouping function\n",
    "def group_gender(gender):\n",
    "    if gender in ['male', 'female', 'non-binary gender']:\n",
    "        return gender\n",
    "    else:\n",
    "        return 'other'\n",
    "\n",
    "# Apply it\n",
    "popular_tracks['gender_grouped'] = popular_tracks['artist_gender'].apply(group_gender)\n"
   ]
  },
  {
   "cell_type": "markdown",
   "id": "52badf84",
   "metadata": {},
   "source": [
    "### Recompute Fairness Metrics on Grouped Gender Categories"
   ]
  },
  {
   "cell_type": "code",
   "execution_count": 23,
   "id": "5b62aac3",
   "metadata": {},
   "outputs": [
    {
     "name": "stdout",
     "output_type": "stream",
     "text": [
      "\n",
      "Selection rate by grouped gender category:\n",
      "gender_grouped\n",
      "female               0.111236\n",
      "male                 0.097795\n",
      "non-binary gender    0.355204\n",
      "other                0.082840\n",
      "Name: selection_rate, dtype: float64\n"
     ]
    }
   ],
   "source": [
    "from fairlearn.metrics import MetricFrame, selection_rate\n",
    "\n",
    "# Use grouped sensitive attribute\n",
    "sensitive_attr_grouped = popular_tracks['gender_grouped']\n",
    "y_true_grouped = popular_tracks['label']\n",
    "y_pred_grouped = popular_tracks['label']  # same as label in this setup\n",
    "\n",
    "mf_grouped = MetricFrame(\n",
    "    metrics=selection_rate,\n",
    "    y_true=y_true_grouped,\n",
    "    y_pred=y_pred_grouped,\n",
    "    sensitive_features=sensitive_attr_grouped\n",
    ")\n",
    "\n",
    "print(\"\\nSelection rate by grouped gender category:\")\n",
    "print(mf_grouped.by_group)"
   ]
  },
  {
   "cell_type": "code",
   "execution_count": 24,
   "id": "f7987b50",
   "metadata": {},
   "outputs": [
    {
     "data": {
      "image/png": "[encoded data removed]",
      "text/plain": [
       "<Figure size 640x480 with 1 Axes>"
      ]
     },
     "metadata": {},
     "output_type": "display_data"
    }
   ],
   "source": [
    "mf_grouped.by_group.plot(\n",
    "    kind='bar',\n",
    "    title='Selection Rate by Grouped Artist Gender',\n",
    "    ylabel='Selection Rate',\n",
    "    rot=0\n",
    ")\n",
    "plt.tight_layout()\n",
    "plt.show()"
   ]
  },
  {
   "cell_type": "markdown",
   "id": "97807d4b",
   "metadata": {},
   "source": [
    "## Bias Evaluation with Multi-gender approach: Selection Rate by Grouped Artist Gender\n",
    "\n",
    "---\n",
    "\n",
    "### Interpretation\n",
    "\n",
    "- 🌈 **Non-binary artists** stand out with a **very high selection rate (35.5%)**, significantly more than any other group. This indicates **strong overrepresentation** in the top 10% of popular tracks.\n",
    "- **Female artists** are selected slightly more often than **male artists** (11.1% vs 9.8%), showing **no evidence of male dominance** in recommendations.\n",
    "- The **\"other\" group**, which includes less common identities (e.g., agender, genderfluid, trans woman, neutral sex), has a **lower selection rate (8.28%)**, but not dramatically lower than male/female.\n",
    "\n",
    "---\n",
    "\n",
    "### Observations\n",
    "\n",
    "- There is **no underrepresentation of female or non-binary artists**.\n",
    "- In fact, **non-binary artists are highly overrepresented** in top recommendations relative to their presence in the dataset.\n",
    "- The **\"other\" group** has lower representation, but it’s hard to assess bias precisely because it aggregates **diverse identities** with very **small track counts**.\n",
    "\n",
    "---\n",
    "\n",
    "### Findings:\n",
    "\n",
    "- Your popularity-based recommender does **not appear to be biased in favor of male artists**.\n",
    "- The current system **overrepresents non-binary artists**, which could be due to a few **very popular tracks** from that group skewing the metric.\n",
    "- The **\"other\" group may warrant deeper investigation**, but there is **no clear fairness violation** based on these results.\n",
    "\n",
    "---\n"
   ]
  },
  {
   "cell_type": "markdown",
   "id": "fec51799",
   "metadata": {},
   "source": [
    "## Bias Mitigation"
   ]
  },
  {
   "cell_type": "markdown",
   "id": "b9e103b9",
   "metadata": {},
   "source": [
    "### Bias Mitigation Male vs. Female:  POST-PROCESSING: RERANKING"
   ]
  },
  {
   "cell_type": "code",
   "execution_count": 25,
   "id": "01d977c0",
   "metadata": {},
   "outputs": [],
   "source": [
    "# Filter to Male/Female Only\n",
    "binary_df = popular_tracks[popular_tracks['artist_gender'].isin(['male', 'female'])].copy()"
   ]
  },
  {
   "cell_type": "code",
   "execution_count": 26,
   "id": "86ad73d8",
   "metadata": {},
   "outputs": [],
   "source": [
    "#Compute Top-N and Apply Quotas\n",
    "\n",
    "N = 100\n",
    "top_n_binary = binary_df.head(N).copy()\n",
    "\n",
    "# Determine quota per group (e.g., 50/50)\n",
    "group_quota = N // 2\n",
    "\n",
    "# Init containers\n",
    "reranked = []\n",
    "group_counts = {'male': 0, 'female': 0}\n",
    "\n",
    "# Iterate through ranked list\n",
    "for _, row in binary_df.iterrows():\n",
    "    gender = row['artist_gender']\n",
    "    if group_counts[gender] < group_quota:\n",
    "        reranked.append(row)\n",
    "        group_counts[gender] += 1\n",
    "    if len(reranked) == N:\n",
    "        break\n",
    "\n",
    "fair_top_n_df_binary = pd.DataFrame(reranked)\n"
   ]
  },
  {
   "cell_type": "code",
   "execution_count": 27,
   "id": "5344ccff",
   "metadata": {},
   "outputs": [
    {
     "name": "stdout",
     "output_type": "stream",
     "text": [
      "Original distribution:\n",
      "artist_gender\n",
      "male      0.94\n",
      "female    0.06\n",
      "Name: proportion, dtype: float64\n",
      "\n",
      "Re-ranked distribution:\n",
      "artist_gender\n",
      "male      0.5\n",
      "female    0.5\n",
      "Name: proportion, dtype: float64\n"
     ]
    }
   ],
   "source": [
    "#compare to the original\n",
    "print(\"Original distribution:\")\n",
    "print(top_n_binary['artist_gender'].value_counts(normalize=True))\n",
    "\n",
    "print(\"\\nRe-ranked distribution:\")\n",
    "print(fair_top_n_df_binary['artist_gender'].value_counts(normalize=True))\n"
   ]
  },
  {
   "cell_type": "markdown",
   "id": "1bc5abcf",
   "metadata": {},
   "source": [
    "## Post-Processing Fairness Mitigation: Binary Gender Reranking\n",
    "\n",
    "### Gender Distribution in Top-N Recommendations\n",
    "\n",
    "| Gender | Original Proportion | Re-Ranked Proportion |\n",
    "|--------|---------------------|----------------------|\n",
    "| Male   | **94%**             | **50%**              |\n",
    "| Female | **6%**              | **50%**              |\n",
    "\n",
    "### Interpretation:\n",
    "- In the **original popularity-based Top-N list**, **male artists dominated** with **94%** of the recommendations, while **female artists** were represented in only **6%**.\n",
    "- After applying **post-processing reranking with a 50/50 gender quota**, both genders are **equally represented** in the re-ranked Top-N list.\n",
    "- This approach directly addresses gender imbalance by ensuring that female artists are no longer underrepresented, regardless of the raw popularity distribution.\n",
    "\n",
    "---\n",
    "\n",
    "### Note:\n",
    "- This is a **hard fairness constraint**: it enforces **equal group representation**, even if it means sacrificing some popularity-based relevance.\n",
    "- It’s a good choice if **representation fairness is a primary goal**, especially in public-facing or socially sensitive applications.\n"
   ]
  },
  {
   "cell_type": "markdown",
   "id": "b6ddb861",
   "metadata": {},
   "source": [
    "### Bias Mitigation Male vs. Female: IN-PROCESSING – EXPONENTIATED GRADIENT"
   ]
  },
  {
   "cell_type": "code",
   "execution_count": null,
   "id": "ba6dc9e8",
   "metadata": {},
   "outputs": [],
   "source": [
    "#Create the binary dataset - label male and female\n",
    "from sklearn.linear_model import LogisticRegression\n",
    "from sklearn.model_selection import train_test_split\n",
    "from fairlearn.reductions import ExponentiatedGradient, DemographicParity\n",
    "from fairlearn.metrics import MetricFrame, selection_rate\n",
    "\n",
    "# Keep only male/female\n",
    "binary_df = binary_df.dropna(subset=['label'])\n",
    "\n",
    "# Encode gender\n",
    "binary_df['is_male'] = (binary_df['artist_gender'] == 'male').astype(int)\n",
    "\n",
    "# Features (you may want to add more)\n",
    "X = binary_df[['play_count']]  # you can add more if available\n",
    "y = binary_df['label']\n",
    "sensitive_features = binary_df['is_male']\n",
    "\n",
    "# Train/test split\n",
    "X_train, X_test, y_train, y_test, sf_train, sf_test = train_test_split(\n",
    "    X, y, sensitive_features, test_size=0.3, random_state=42, stratify=sensitive_features\n",
    ")"
   ]
  },
  {
   "cell_type": "code",
   "execution_count": 31,
   "id": "eceefbf8",
   "metadata": {},
   "outputs": [],
   "source": [
    "from fairlearn.reductions import ExponentiatedGradient, DemographicParity\n",
    "from sklearn.linear_model import LogisticRegression\n",
    "\n",
    "# Correct version (random_state set inside the model, not ExponentiatedGradient)\n",
    "mitigator = ExponentiatedGradient(\n",
    "    estimator=LogisticRegression(solver='liblinear', random_state=0),\n",
    "    constraints=DemographicParity()\n",
    ")\n",
    "\n",
    "# Fit the fairness-aware model\n",
    "mitigator.fit(X_train, y_train, sensitive_features=sf_train)\n",
    "\n",
    "# Predict\n",
    "y_pred_fair = mitigator.predict(X_test)\n"
   ]
  },
  {
   "cell_type": "markdown",
   "id": "27dae78e",
   "metadata": {},
   "source": [
    "### Evaluate Fairness After In-Processing Mitigation "
   ]
  },
  {
   "cell_type": "code",
   "execution_count": 32,
   "id": "87f99552",
   "metadata": {},
   "outputs": [
    {
     "name": "stdout",
     "output_type": "stream",
     "text": [
      "Selection rate after fairness-aware training:\n",
      "is_male\n",
      "0    0.106689\n",
      "1    0.092312\n",
      "Name: selection_rate, dtype: float64\n"
     ]
    }
   ],
   "source": [
    "mf = MetricFrame(\n",
    "    metrics=selection_rate,\n",
    "    y_true=y_test,\n",
    "    y_pred=y_pred_fair,\n",
    "    sensitive_features=sf_test\n",
    ")\n",
    "\n",
    "print(\"Selection rate after fairness-aware training:\")\n",
    "print(mf.by_group)\n"
   ]
  },
  {
   "cell_type": "markdown",
   "id": "65c1efaa",
   "metadata": {},
   "source": [
    "## In-Processing Fairness Mitigation (ExponentiatedGradient)\n",
    "\n",
    "### Selection Rate by Gender (After Mitigation)\n",
    "\n",
    "| Gender         | Selection Rate |\n",
    "|----------------|----------------|\n",
    "| Female (0)     | **10.67%**     |\n",
    "| Male (1)       | **9.23%**      |\n",
    "\n",
    "### Interpretation:\n",
    "- After applying **ExponentiatedGradient** with a **demographic parity constraint**, the selection rates for **male and female artists** are much closer than in the original popularity-based system.\n",
    "-  Female artists now have a **slightly higher selection rate (10.67%)** compared to male artists (9.23%).\n",
    "- The difference is small (≈ **1.44 percentage points**) — this indicates that the in-processing method **successfully reduced bias** in the model training process while still allowing natural variation.\n",
    "\n",
    "---\n",
    "\n",
    "### Comparison with Post-Processing Reranking\n",
    "\n",
    "| Method               | Female Representation | Male Representation | Notes                          |\n",
    "|----------------------|------------------------|----------------------|--------------------------------|\n",
    "| Original             | 6%                     | 94%                  | Strong imbalance               |\n",
    "| Post-Processing      | 50%                    | 50%                  | Enforced quota                 |\n",
    "| In-Processing (EG)   | 10.7%                  | 9.2%                 | Balanced via fairness training |\n",
    "\n",
    "---\n",
    "\n",
    "### Conclusion\n",
    "\n",
    "- In-processing mitigation yields **more natural-looking fairness**, preserving some model freedom while reducing disparities.\n",
    "- It may be preferred in scenarios where **flexibility** is needed and **hard quotas** (like in post-processing) are too rigid.\n"
   ]
  },
  {
   "cell_type": "markdown",
   "id": "d44c3c28",
   "metadata": {},
   "source": [
    "### Bias Mitigation using all genders: Multi-Gender approach: POST-PROCESSING: RERANKING"
   ]
  },
  {
   "cell_type": "markdown",
   "id": "23fc7923",
   "metadata": {},
   "source": [
    "### Post-Processing: Reranking with Group Quotas (Multi-Gender)"
   ]
  },
  {
   "cell_type": "code",
   "execution_count": 33,
   "id": "7c0172f5",
   "metadata": {},
   "outputs": [],
   "source": [
    "#Group Rare Genders - three gender categories - female, male and nonbinary - the other categories are too rare to include\n",
    "def group_gender(g):\n",
    "    if g in ['male', 'female', 'non-binary gender']:\n",
    "        return g\n",
    "    else:\n",
    "        return 'other'\n",
    "\n",
    "popular_tracks['gender_grouped'] = popular_tracks['artist_gender'].apply(group_gender)"
   ]
  },
  {
   "cell_type": "code",
   "execution_count": 34,
   "id": "e50f7a4e",
   "metadata": {},
   "outputs": [],
   "source": [
    "#Rerank with Equal Group Quotas\n",
    "N = 100\n",
    "groups = popular_tracks['gender_grouped'].unique()\n",
    "quota = N // len(groups)\n",
    "\n",
    "# Track group counts\n",
    "group_counts = {g: 0 for g in groups}\n",
    "fair_top_n_multi = []\n",
    "\n",
    "# Iterate through popularity-ranked tracks\n",
    "for _, row in popular_tracks.iterrows():\n",
    "    group = row['gender_grouped']\n",
    "    if group_counts[group] < quota:\n",
    "        fair_top_n_multi.append(row)\n",
    "        group_counts[group] += 1\n",
    "    if len(fair_top_n_multi) == N:\n",
    "        break\n",
    "\n",
    "fair_top_n_df_multi = pd.DataFrame(fair_top_n_multi)"
   ]
  },
  {
   "cell_type": "code",
   "execution_count": 35,
   "id": "6fcb2ade",
   "metadata": {},
   "outputs": [
    {
     "name": "stdout",
     "output_type": "stream",
     "text": [
      "Original distribution:\n",
      "gender_grouped\n",
      "male                 0.91\n",
      "female               0.06\n",
      "non-binary gender    0.03\n",
      "Name: proportion, dtype: float64\n",
      "\n",
      "Re-ranked distribution:\n",
      "gender_grouped\n",
      "male                 0.25\n",
      "non-binary gender    0.25\n",
      "female               0.25\n",
      "other                0.25\n",
      "Name: proportion, dtype: float64\n"
     ]
    }
   ],
   "source": [
    "#Compare Distributions\n",
    "top_n_original = popular_tracks.head(N).copy()\n",
    "top_n_original['gender_grouped'] = top_n_original['artist_gender'].apply(group_gender)\n",
    "\n",
    "print(\"Original distribution:\")\n",
    "print(top_n_original['gender_grouped'].value_counts(normalize=True))\n",
    "\n",
    "print(\"\\nRe-ranked distribution:\")\n",
    "print(fair_top_n_df_multi['gender_grouped'].value_counts(normalize=True))\n"
   ]
  },
  {
   "cell_type": "markdown",
   "id": "5bc312a6",
   "metadata": {},
   "source": [
    "### In-Processing: Fairness-Aware Learning (Multi-Gender)\n",
    "Fairlearn’s ExponentiatedGradient supports binary sensitive features only, so for multi-group fairness, we apply the one-vs-rest approach."
   ]
  },
  {
   "cell_type": "code",
   "execution_count": null,
   "id": "eed86f69",
   "metadata": {},
   "outputs": [
    {
     "name": "stdout",
     "output_type": "stream",
     "text": [
      "\n",
      "🔍 Evaluating fairness for group: 'male'\n",
      "is_group\n",
      "0    0.077326\n",
      "1    0.065873\n",
      "Name: selection_rate, dtype: float64\n",
      "\n",
      "🔍 Evaluating fairness for group: 'non-binary gender'\n",
      "is_group\n",
      "0    0.004499\n",
      "1    0.015038\n",
      "Name: selection_rate, dtype: float64\n",
      "\n",
      "🔍 Evaluating fairness for group: 'female'\n",
      "is_group\n",
      "0    0.094054\n",
      "1    0.100404\n",
      "Name: selection_rate, dtype: float64\n",
      "\n",
      "🔍 Evaluating fairness for group: 'genderfluid'\n",
      "is_group\n",
      "0    0.063155\n",
      "1    0.035714\n",
      "Name: selection_rate, dtype: float64\n",
      "\n",
      "🔍 Evaluating fairness for group: 'agender'\n",
      "is_group\n",
      "0    0.026065\n",
      "1    0.100000\n",
      "Name: selection_rate, dtype: float64\n",
      "\n",
      "🔍 Evaluating fairness for group: 'trans woman'\n",
      "is_group\n",
      "0    0.010869\n",
      "1    0.000000\n",
      "Name: selection_rate, dtype: float64\n",
      "\n",
      "🔍 Evaluating fairness for group: 'neutral sex'\n",
      "⚠️ Skipping group 'neutral sex': The least populated class in y has only 1 member, which is too few. The minimum number of groups for any class cannot be less than 2.\n",
      "\n",
      "📊 Summary of Selection Rates (One-vs-Rest):\n",
      "                   not_group  is_group\n",
      "male                0.077326  0.065873\n",
      "non-binary gender   0.004499  0.015038\n",
      "female              0.094054  0.100404\n",
      "genderfluid         0.063155  0.035714\n",
      "agender             0.026065  0.100000\n",
      "trans woman         0.010869  0.000000\n"
     ]
    }
   ],
   "source": [
    "from fairlearn.reductions import ExponentiatedGradient, DemographicParity\n",
    "from sklearn.linear_model import LogisticRegression\n",
    "from sklearn.model_selection import train_test_split\n",
    "from fairlearn.metrics import MetricFrame, selection_rate\n",
    "import pandas as pd\n",
    "\n",
    "# Get the unique gender groups\n",
    "gender_groups = popular_tracks['artist_gender'].unique()\n",
    "\n",
    "# Store results\n",
    "results = {}\n",
    "\n",
    "for group in gender_groups:\n",
    "    print(f\"\\n🔍 Evaluating fairness for group: '{group}'\")\n",
    "\n",
    "    # Step 1: Define one-vs-rest sensitive attribute\n",
    "    popular_tracks['is_group'] = (popular_tracks['artist_gender'] == group).astype(int)\n",
    "\n",
    "    # Step 2: Prepare feature and label\n",
    "    X = popular_tracks[['play_count']]  # You can include more features here\n",
    "    y = popular_tracks['label']         # 1 = Top 10% popularity\n",
    "    sf = popular_tracks['is_group']     # 1 if in current group, else 0\n",
    "\n",
    "    # Step 3: Check if enough data is present for splitting\n",
    "    # we need to integrate this because some gender groups were only once represented e.g. neutral sex\n",
    "    if y.nunique() < 2 or sf.nunique() < 2:\n",
    "        print(f\"⚠️ Skipping group '{group}' due to insufficient data.\")\n",
    "        continue\n",
    "\n",
    "    # Step 4: Train-test split with stratification\n",
    "    try:\n",
    "        X_train, X_test, y_train, y_test, sf_train, sf_test = train_test_split(\n",
    "            X, y, sf, test_size=0.3, random_state=42, stratify=sf\n",
    "        )\n",
    "    except ValueError as e:\n",
    "        print(f\"⚠️ Skipping group '{group}': {e}\")\n",
    "        continue\n",
    "\n",
    "    # Step 5: Fit fairness-aware classifier\n",
    "    mitigator = ExponentiatedGradient(\n",
    "        estimator=LogisticRegression(solver='liblinear', random_state=0),\n",
    "        constraints=DemographicParity()\n",
    "    )\n",
    "\n",
    "    mitigator.fit(X_train, y_train, sensitive_features=sf_train)\n",
    "    y_pred_fair = mitigator.predict(X_test)\n",
    "\n",
    "    # Step 6: Evaluate fairness\n",
    "    mf = MetricFrame(\n",
    "        metrics=selection_rate,\n",
    "        y_true=y_test,\n",
    "        y_pred=y_pred_fair,\n",
    "        sensitive_features=sf_test\n",
    "    )\n",
    "\n",
    "    print(mf.by_group)\n",
    "    results[group] = mf.by_group\n",
    "\n",
    "# Step 7: Display summary DataFrame\n",
    "fairness_df = pd.DataFrame(results).T\n",
    "fairness_df.columns = ['not_group', 'is_group']\n",
    "print(\"\\n📊 Summary of Selection Rates (One-vs-Rest):\")\n",
    "print(fairness_df)\n"
   ]
  },
  {
   "cell_type": "code",
   "execution_count": 43,
   "id": "baca2c9c",
   "metadata": {},
   "outputs": [
    {
     "name": "stdout",
     "output_type": "stream",
     "text": [
      "\n",
      "Summary of Selection Rates (One-vs-Rest):\n",
      "                   not_group  is_group\n",
      "male                0.077326  0.065873\n",
      "non-binary gender   0.004499  0.015038\n",
      "female              0.094054  0.100404\n",
      "genderfluid         0.063155  0.035714\n",
      "agender             0.026065  0.100000\n",
      "trans woman         0.010869  0.000000\n"
     ]
    }
   ],
   "source": [
    "# Display a full summary of all results\n",
    "import pandas as pd\n",
    "\n",
    "fairness_df = pd.DataFrame(results).T\n",
    "fairness_df.columns = ['not_group', 'is_group']\n",
    "print(\"\\nSummary of Selection Rates (One-vs-Rest):\")\n",
    "print(fairness_df)\n"
   ]
  },
  {
   "cell_type": "markdown",
   "id": "241854b0",
   "metadata": {},
   "source": [
    "## One-vs-Rest Fairness Evaluation Multi-Gender Approach (In-Processing)\n",
    "\n",
    "Each gender group was treated individually to evaluate how fairly it was represented by a fairness-aware classifier trained with demographic parity constraints.\n",
    "\n",
    "### Selection Rates by Gender Group\n",
    "\n",
    "| Gender Group       | Not Group (Others) | Is Group (Target) | Interpretation |\n",
    "|--------------------|--------------------|--------------------|----------------|\n",
    "| **male**           | 7.73%              | 6.59%              | Male tracks were selected slightly **less** often than non-male tracks. |\n",
    "| **non-binary**     | 0.45%              | 1.50%              | Non-binary tracks had a higher selection rate than others, but all rates are very **low**, indicating potential underrepresentation overall. |\n",
    "| **female**         | 9.41%              | 10.04%             | Female tracks had a slightly **higher** selection rate than non-female tracks — indicating relative fairness. |\n",
    "| **genderfluid**    | 6.32%              | 3.57%              | Genderfluid tracks were selected **less** often than others — possible underrepresentation. |\n",
    "| **agender**        | 2.61%              | 10.00%             | Agender tracks were selected **more** than non-agender tracks, but note this might be due to **very small group size**. |\n",
    "| **trans woman**    | 1.09%              | 0.00%              | Trans woman tracks were **not selected at all**, even after mitigation. This strongly suggests underrepresentation. |\n",
    "| **neutral sex**    | —                  | —                  | Skipped due to too little data (only 1 labeled sample). |\n",
    "\n",
    "---\n",
    "\n",
    "### Key Insights:\n",
    "\n",
    "- **Female** and **agender** groups show positive selection results.\n",
    "- **Trans woman** and **genderfluid** tracks appear **underrepresented**, even after applying fairness-aware training.\n",
    "- **Non-binary** tracks had **low absolute rates**, which may indicate limited availability or systemic exclusion.\n",
    "- **Small sample sizes** for some groups may skew results — consider grouping rare categories for more stable evaluation."
   ]
  },
  {
   "cell_type": "code",
   "execution_count": null,
   "id": "1dffc72a",
   "metadata": {},
   "outputs": [],
   "source": []
  }
 ],
 "metadata": {
  "kernelspec": {
   "display_name": "Python 3",
   "language": "python",
   "name": "python3"
  },
  "language_info": {
   "codemirror_mode": {
    "name": "ipython",
    "version": 3
   },
   "file_extension": ".py",
   "mimetype": "text/x-python",
   "name": "python",
   "nbconvert_exporter": "python",
   "pygments_lexer": "ipython3",
   "version": "3.11.9"
  }
 },
 "nbformat": 4,
 "nbformat_minor": 5
}
